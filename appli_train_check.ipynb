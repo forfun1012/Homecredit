{
 "cells": [
  {
   "cell_type": "code",
   "execution_count": 1,
   "metadata": {
    "slideshow": {
     "slide_type": "-"
    }
   },
   "outputs": [
    {
     "data": {
      "text/plain": [
       "['application_test.csv',\n",
       " '.DS_Store',\n",
       " 'HomeCredit_columns_description.csv',\n",
       " 'POS_CASH_balance.csv',\n",
       " 'credit_card_balance.csv',\n",
       " 'installments_payments.csv',\n",
       " 'application_train.csv',\n",
       " 'bureau.csv',\n",
       " 'previous_application.csv',\n",
       " 'HomeCredit_columns_description.xls',\n",
       " 'bureau_balance.csv',\n",
       " 'sample_submission.csv']"
      ]
     },
     "execution_count": 1,
     "metadata": {},
     "output_type": "execute_result"
    }
   ],
   "source": [
    "import os\n",
    "cwd = os.getcwd()\n",
    "data_dir = cwd + '/dataset'\n",
    "os.listdir(data_dir)"
   ]
  },
  {
   "cell_type": "code",
   "execution_count": 2,
   "metadata": {},
   "outputs": [
    {
     "data": {
      "text/html": [
       "<script>requirejs.config({paths: { 'plotly': ['https://cdn.plot.ly/plotly-latest.min']},});if(!window.Plotly) {{require(['plotly'],function(plotly) {window.Plotly=plotly;});}}</script>"
      ],
      "text/vnd.plotly.v1+html": [
       "<script>requirejs.config({paths: { 'plotly': ['https://cdn.plot.ly/plotly-latest.min']},});if(!window.Plotly) {{require(['plotly'],function(plotly) {window.Plotly=plotly;});}}</script>"
      ]
     },
     "metadata": {},
     "output_type": "display_data"
    }
   ],
   "source": [
    "import numpy as np\n",
    "import pandas as pd\n",
    "import matplotlib.pyplot as plt\n",
    "import plotly.offline as py\n",
    "py.init_notebook_mode(connected=True)\n",
    "import plotly.graph_objs as go\n",
    "import plotly.tools as tls\n",
    "\n",
    "%matplotlib inline\n",
    "pd.set_option('max_columns',500)\n",
    "pd.set_option('max_rows',500)"
   ]
  },
  {
   "cell_type": "code",
   "execution_count": 3,
   "metadata": {},
   "outputs": [],
   "source": [
    "data = pd.read_csv(data_dir + \"/application_train.csv\")"
   ]
  },
  {
   "cell_type": "code",
   "execution_count": null,
   "metadata": {},
   "outputs": [],
   "source": [
    "data.head(20)"
   ]
  },
  {
   "cell_type": "code",
   "execution_count": null,
   "metadata": {
    "scrolled": false
   },
   "outputs": [],
   "source": [
    "#null data clean\n",
    "#print(appli_train.isnull().any())\n",
    "nan_tmp = data.isnull().any()\n",
    "#print(nan_tmp.loc[nan_tmp==True].index.values[0])\n",
    "#get the null columns into the drop list\n",
    "nan_drop_list = list(nan_tmp.loc[nan_tmp==True].index.values)\n",
    "print(len(nan_drop_list))"
   ]
  },
  {
   "cell_type": "code",
   "execution_count": null,
   "metadata": {},
   "outputs": [],
   "source": [
    "clean_data_list = data.columns.drop(nan_drop_list)\n",
    "clean_data = data[clean_data_list]"
   ]
  },
  {
   "cell_type": "code",
   "execution_count": null,
   "metadata": {},
   "outputs": [],
   "source": [
    "nan_drop_list.insert(0,\"TARGET\")\n",
    "nan_drop_list.insert(0,\"SK_ID_CURR\")\n",
    "nan_data = data[nan_drop_list]"
   ]
  },
  {
   "cell_type": "code",
   "execution_count": null,
   "metadata": {},
   "outputs": [],
   "source": [
    "nan_data.head(5)"
   ]
  },
  {
   "cell_type": "code",
   "execution_count": null,
   "metadata": {},
   "outputs": [],
   "source": [
    "clean_data.head(20)"
   ]
  },
  {
   "cell_type": "code",
   "execution_count": null,
   "metadata": {},
   "outputs": [],
   "source": [
    "del data"
   ]
  },
  {
   "cell_type": "code",
   "execution_count": null,
   "metadata": {},
   "outputs": [],
   "source": [
    "a = clean_data[['NAME_CONTRACT_TYPE']].groupby(\"NAME_CONTRACT_TYPE\").groups.keys()\n",
    "list(a)"
   ]
  },
  {
   "cell_type": "code",
   "execution_count": null,
   "metadata": {},
   "outputs": [],
   "source": [
    "def draw_graph(x0,x1,x,y,names=['default1','default2'], features=['default1','default2']):\n",
    "    \"\"\"Use to generate a stacked histogram of x0 & x1 value counts, mixed with a scatter of percentage.\n",
    "        x0: trace 1 x value,list()\n",
    "        x1: trace 2 x value,list()\n",
    "        x: trace 3 x value, for percentage,list()\n",
    "        y: trace 3 y value, for percentage,list()\n",
    "        names: the names of x0, x1 stand for,list(),len=2\n",
    "        features: The features we compared,list(),len=2\n",
    "    \"\"\"\n",
    "    trace1 = go.Histogram(\n",
    "        x=x0,\n",
    "        histnorm='count',\n",
    "        name=names[0],\n",
    "        opacity=0.75,\n",
    "        yaxis='y2'\n",
    "    )\n",
    "    trace2 = go.Histogram(\n",
    "        x=x1,\n",
    "        name=names[1],\n",
    "        opacity=0.75,       \n",
    "        yaxis='y2'\n",
    "    )\n",
    "    trace3 = go.Scatter(\n",
    "        x=x,\n",
    "        y=y,\n",
    "        name='Percentage'\n",
    " \n",
    "    )\n",
    "    data = [trace1, trace2, trace3]\n",
    "\n",
    "    layout = go.Layout(\n",
    "        title=features[0]+' .vs '+features[1],\n",
    "        xaxis=dict(\n",
    "            title='Value',\n",
    "            categoryorder = \"category ascending\"\n",
    "        ),\n",
    "        yaxis2=dict(\n",
    "            title='Count',\n",
    "            overlaying='y',\n",
    "            side='right'\n",
    "        ),\n",
    "        yaxis=dict(\n",
    "            title='Percentage',\n",
    "            range=[0,np.max([np.max(y)+0.01,0.1])]\n",
    "        ),\n",
    "        bargap=0.2,\n",
    "        bargroupgap=0.1,\n",
    "        barmode='stack'\n",
    "    )\n",
    "    fig = go.Figure(data=data, layout=layout)\n",
    "    py.iplot(fig, filename='styled histogram')\n",
    "    \n",
    "def gen_graph(features):\n",
    "    '''\n",
    "        use to generate the parameters to draw the graph\n",
    "        fetaures: stands for compared 2 features,list(),len=2\n",
    "    '''\n",
    "    corr = clean_data[features]\n",
    "    #bar graph\n",
    "    x0 = corr.loc[corr[features[0]]==0,features[1]].values\n",
    "    x1 = corr.loc[corr[features[0]]==1,features[1]].values\n",
    "    names = [features[0]+'=0',features[0]+'=1']\n",
    "    #scatter graph, for pecentage\n",
    "    data_type = clean_data[[features[1]]].groupby(features[1]).groups.keys()\n",
    "    x = list(data_type)\n",
    "    y = []\n",
    "    for a in data_type:\n",
    "        y.append(corr.loc[corr[features[1]]==a,features[0]].mean())\n",
    "    ind = np.lexsort((y,x))\n",
    "    x = [x[i] for i in ind]\n",
    "    y = [y[i] for i in ind]\n",
    "    draw_graph(x0,x1,x,y,names, features)"
   ]
  },
  {
   "cell_type": "markdown",
   "metadata": {},
   "source": [
    "## 特征分析\n",
    "\n",
    "** 'TARGET' vs 'NAME_CONTRACT_TYPE' **"
   ]
  },
  {
   "cell_type": "code",
   "execution_count": null,
   "metadata": {},
   "outputs": [],
   "source": [
    "features = ['TARGET','NAME_CONTRACT_TYPE']\n",
    "gen_graph(features)\n",
    "#draw_graph(x0,x1,x,y,names, features)"
   ]
  },
  {
   "cell_type": "markdown",
   "metadata": {},
   "source": [
    "** 'TARGET' vs 'CODE_GENDER'**"
   ]
  },
  {
   "cell_type": "code",
   "execution_count": null,
   "metadata": {},
   "outputs": [],
   "source": [
    "features = ['TARGET','CODE_GENDER']\n",
    "gen_graph(features)\n",
    "#draw_graph(x0,x1,x,y,names, features)"
   ]
  },
  {
   "cell_type": "code",
   "execution_count": null,
   "metadata": {},
   "outputs": [],
   "source": [
    "clean_data.loc[clean_data['CODE_GENDER']=='XNA'].head(5)"
   ]
  },
  {
   "cell_type": "markdown",
   "metadata": {},
   "source": [
    "** 'TARGET' vs \"FLAG_OWN_CAR\" ** "
   ]
  },
  {
   "cell_type": "code",
   "execution_count": null,
   "metadata": {},
   "outputs": [],
   "source": [
    "features = ['TARGET','FLAG_OWN_CAR']\n",
    "gen_graph(features)\n",
    "#draw_graph(x0,x1,x,y,names, features)"
   ]
  },
  {
   "cell_type": "markdown",
   "metadata": {},
   "source": [
    "** 'TARGET' vs \"FLAG_OWN_REALTY\" ** "
   ]
  },
  {
   "cell_type": "code",
   "execution_count": null,
   "metadata": {},
   "outputs": [],
   "source": [
    "features = ['TARGET','FLAG_OWN_REALTY']\n",
    "gen_graph(features)\n",
    "#draw_graph(x0,x1,x,y,names, features)"
   ]
  },
  {
   "cell_type": "markdown",
   "metadata": {},
   "source": [
    "*** 'TARGET' vs \"CNT_CHILDREN\" ***"
   ]
  },
  {
   "cell_type": "code",
   "execution_count": null,
   "metadata": {},
   "outputs": [],
   "source": [
    "features = ['TARGET','CNT_CHILDREN']\n",
    "corr = clean_data[features]\n",
    "#corr[features[1]] = pd.qcut(corr[features[1]],[0.5,1.5],labels=['None','One','Multi'])\n",
    "corr.loc[corr[features[1]]>1, features[1]] = 'Multi'\n",
    "corr.loc[corr[features[1]]==0, features[1]] = 'Zero'\n",
    "corr.loc[corr[features[1]]==1, features[1]] = 'One'\n",
    " #bar graph\n",
    "x0 = corr.loc[corr[features[0]]==0,features[1]].values\n",
    "x1 = corr.loc[corr[features[0]]==1,features[1]].values\n",
    "names = [features[0]+'=0',features[0]+'=1']\n",
    "#scatter graph, for pecentage\n",
    "data_type = corr[[features[1]]].groupby(features[1]).groups.keys()\n",
    "x = list(data_type)\n",
    "y = []\n",
    "for a in data_type:\n",
    "    y.append(corr.loc[corr[features[1]]==a,features[0]].mean())\n",
    "ind = np.lexsort((y,x))\n",
    "x = [x[i] for i in ind]\n",
    "y = [y[i] for i in ind]\n",
    "draw_graph(x0,x1,x,y,names, features)"
   ]
  },
  {
   "cell_type": "markdown",
   "metadata": {},
   "source": [
    "** 'TARGET' vs \"AMT_INCOME_TOTAL\" **"
   ]
  },
  {
   "cell_type": "code",
   "execution_count": null,
   "metadata": {},
   "outputs": [],
   "source": [
    "features = ['TARGET','AMT_INCOME_TOTAL']\n",
    "corr = clean_data[features]\n",
    "corr[features[1]] = pd.qcut(corr[features[1]],3,labels=['low','median','high'])\n",
    " #bar graph\n",
    "x0 = corr.loc[corr[features[0]]==0,features[1]].values\n",
    "x1 = corr.loc[corr[features[0]]==1,features[1]].values\n",
    "names = [features[0]+'=0',features[0]+'=1']\n",
    "#scatter graph, for pecentage\n",
    "data_type = corr[[features[1]]].groupby(features[1]).groups.keys()\n",
    "x = list(data_type)\n",
    "y = []\n",
    "for a in data_type:\n",
    "    y.append(corr.loc[corr[features[1]]==a,features[0]].mean())\n",
    "ind = np.lexsort((y,x))\n",
    "x = [x[i] for i in ind]\n",
    "y = [y[i] for i in ind]\n",
    "draw_graph(x0,x1,x,y,names, features)"
   ]
  },
  {
   "cell_type": "markdown",
   "metadata": {},
   "source": [
    "** 'TARGET' vs \"AMT_CREDIT\" ** "
   ]
  },
  {
   "cell_type": "code",
   "execution_count": null,
   "metadata": {},
   "outputs": [],
   "source": [
    "features = ['TARGET','AMT_CREDIT']\n",
    "corr = clean_data[features]\n",
    "corr[features[1]] = pd.qcut(corr[features[1]],3,labels=['low','median','high'])\n",
    " #bar graph\n",
    "x0 = corr.loc[corr[features[0]]==0,features[1]].values\n",
    "x1 = corr.loc[corr[features[0]]==1,features[1]].values\n",
    "names = [features[0]+'=0',features[0]+'=1']\n",
    "#scatter graph, for pecentage\n",
    "data_type = corr[[features[1]]].groupby(features[1]).groups.keys()\n",
    "x = list(data_type)\n",
    "y = []\n",
    "for a in data_type:\n",
    "    y.append(corr.loc[corr[features[1]]==a,features[0]].mean())\n",
    "ind = np.lexsort((y,x))\n",
    "x = [x[i] for i in ind]\n",
    "y = [y[i] for i in ind]\n",
    "draw_graph(x0,x1,x,y,names, features)"
   ]
  },
  {
   "cell_type": "code",
   "execution_count": null,
   "metadata": {},
   "outputs": [],
   "source": [
    "features = ['TARGET','NAME_INCOME_TYPE']\n",
    "gen_graph(features)"
   ]
  },
  {
   "cell_type": "markdown",
   "metadata": {},
   "source": [
    "** TARGET vs NAME_EDUCATION_TYPE **"
   ]
  },
  {
   "cell_type": "code",
   "execution_count": null,
   "metadata": {},
   "outputs": [],
   "source": [
    "features = ['TARGET','NAME_EDUCATION_TYPE']\n",
    "gen_graph(features)"
   ]
  },
  {
   "cell_type": "markdown",
   "metadata": {},
   "source": [
    "** TARGET vs NAME_FAMILY_STATUS **"
   ]
  },
  {
   "cell_type": "code",
   "execution_count": null,
   "metadata": {},
   "outputs": [],
   "source": [
    "features = ['TARGET','NAME_FAMILY_STATUS']\n",
    "gen_graph(features)"
   ]
  },
  {
   "cell_type": "markdown",
   "metadata": {},
   "source": [
    "**TARGET vs NAME_HOUSING_TYPE ** "
   ]
  },
  {
   "cell_type": "code",
   "execution_count": null,
   "metadata": {},
   "outputs": [],
   "source": [
    "features = ['TARGET','NAME_HOUSING_TYPE']\n",
    "gen_graph(features)"
   ]
  },
  {
   "cell_type": "markdown",
   "metadata": {},
   "source": [
    "** TARGET vs DAYS_BIRTH **"
   ]
  },
  {
   "cell_type": "code",
   "execution_count": null,
   "metadata": {},
   "outputs": [],
   "source": [
    "corr.head(5)"
   ]
  },
  {
   "cell_type": "code",
   "execution_count": null,
   "metadata": {},
   "outputs": [],
   "source": [
    "temp = [[x[i],y[i]] for i in range(len(x))]\n",
    "tmp = np.array(temp)\n",
    "tmp"
   ]
  },
  {
   "cell_type": "code",
   "execution_count": null,
   "metadata": {},
   "outputs": [],
   "source": [
    "ind = np.lexsort((y,x))\n",
    "y = [y[i] for i in ind]\n",
    "x = [x[i] for i in ind]\n",
    "x,y"
   ]
  },
  {
   "cell_type": "code",
   "execution_count": null,
   "metadata": {},
   "outputs": [],
   "source": []
  },
  {
   "cell_type": "code",
   "execution_count": null,
   "metadata": {},
   "outputs": [],
   "source": [
    "np.max([np.max(y),0.1])"
   ]
  },
  {
   "cell_type": "code",
   "execution_count": null,
   "metadata": {},
   "outputs": [],
   "source": []
  },
  {
   "cell_type": "code",
   "execution_count": null,
   "metadata": {},
   "outputs": [],
   "source": []
  },
  {
   "cell_type": "code",
   "execution_count": null,
   "metadata": {},
   "outputs": [],
   "source": []
  },
  {
   "cell_type": "code",
   "execution_count": null,
   "metadata": {},
   "outputs": [],
   "source": [
    "'''clean_columns = clean_data.columns.drop([\"SK_ID_CURR\",\"TARGET\"]).values\n",
    "for column in clean_columns:\n",
    "    #print(column)\n",
    "    if type(clean_data[column].values[0]) == type('a'):\n",
    "        data_tmp = clean_data[[column, 'TARGET']]\n",
    "        value_keys= data_tmp.groupby(column).groups.keys()\n",
    "        for key in value_keys:\n",
    "            x = data_tmp.loc[data_tmp[column]==key, 'TARGET']'''\n"
   ]
  },
  {
   "cell_type": "code",
   "execution_count": 8,
   "metadata": {},
   "outputs": [
    {
     "data": {
      "text/html": [
       "<div>\n",
       "<style scoped>\n",
       "    .dataframe tbody tr th:only-of-type {\n",
       "        vertical-align: middle;\n",
       "    }\n",
       "\n",
       "    .dataframe tbody tr th {\n",
       "        vertical-align: top;\n",
       "    }\n",
       "\n",
       "    .dataframe thead th {\n",
       "        text-align: right;\n",
       "    }\n",
       "</style>\n",
       "<table border=\"1\" class=\"dataframe\">\n",
       "  <thead>\n",
       "    <tr style=\"text-align: right;\">\n",
       "      <th></th>\n",
       "      <th>SK_ID_CURR</th>\n",
       "      <th>TARGET</th>\n",
       "      <th>NAME_CONTRACT_TYPE</th>\n",
       "      <th>CODE_GENDER</th>\n",
       "      <th>FLAG_OWN_CAR</th>\n",
       "      <th>FLAG_OWN_REALTY</th>\n",
       "      <th>CNT_CHILDREN</th>\n",
       "      <th>AMT_INCOME_TOTAL</th>\n",
       "      <th>AMT_CREDIT</th>\n",
       "      <th>AMT_ANNUITY</th>\n",
       "      <th>AMT_GOODS_PRICE</th>\n",
       "      <th>NAME_TYPE_SUITE</th>\n",
       "      <th>NAME_INCOME_TYPE</th>\n",
       "      <th>NAME_EDUCATION_TYPE</th>\n",
       "      <th>NAME_FAMILY_STATUS</th>\n",
       "      <th>NAME_HOUSING_TYPE</th>\n",
       "      <th>REGION_POPULATION_RELATIVE</th>\n",
       "      <th>DAYS_BIRTH</th>\n",
       "      <th>DAYS_EMPLOYED</th>\n",
       "      <th>DAYS_REGISTRATION</th>\n",
       "      <th>DAYS_ID_PUBLISH</th>\n",
       "      <th>OWN_CAR_AGE</th>\n",
       "      <th>FLAG_MOBIL</th>\n",
       "      <th>FLAG_EMP_PHONE</th>\n",
       "      <th>FLAG_WORK_PHONE</th>\n",
       "      <th>FLAG_CONT_MOBILE</th>\n",
       "      <th>FLAG_PHONE</th>\n",
       "      <th>FLAG_EMAIL</th>\n",
       "      <th>OCCUPATION_TYPE</th>\n",
       "      <th>CNT_FAM_MEMBERS</th>\n",
       "      <th>REGION_RATING_CLIENT</th>\n",
       "      <th>REGION_RATING_CLIENT_W_CITY</th>\n",
       "      <th>WEEKDAY_APPR_PROCESS_START</th>\n",
       "      <th>HOUR_APPR_PROCESS_START</th>\n",
       "      <th>REG_REGION_NOT_LIVE_REGION</th>\n",
       "      <th>REG_REGION_NOT_WORK_REGION</th>\n",
       "      <th>LIVE_REGION_NOT_WORK_REGION</th>\n",
       "      <th>REG_CITY_NOT_LIVE_CITY</th>\n",
       "      <th>REG_CITY_NOT_WORK_CITY</th>\n",
       "      <th>LIVE_CITY_NOT_WORK_CITY</th>\n",
       "      <th>ORGANIZATION_TYPE</th>\n",
       "      <th>EXT_SOURCE_1</th>\n",
       "      <th>EXT_SOURCE_2</th>\n",
       "      <th>EXT_SOURCE_3</th>\n",
       "      <th>APARTMENTS_AVG</th>\n",
       "      <th>BASEMENTAREA_AVG</th>\n",
       "      <th>YEARS_BEGINEXPLUATATION_AVG</th>\n",
       "      <th>YEARS_BUILD_AVG</th>\n",
       "      <th>COMMONAREA_AVG</th>\n",
       "      <th>ELEVATORS_AVG</th>\n",
       "      <th>ENTRANCES_AVG</th>\n",
       "      <th>FLOORSMAX_AVG</th>\n",
       "      <th>FLOORSMIN_AVG</th>\n",
       "      <th>LANDAREA_AVG</th>\n",
       "      <th>LIVINGAPARTMENTS_AVG</th>\n",
       "      <th>LIVINGAREA_AVG</th>\n",
       "      <th>NONLIVINGAPARTMENTS_AVG</th>\n",
       "      <th>NONLIVINGAREA_AVG</th>\n",
       "      <th>APARTMENTS_MODE</th>\n",
       "      <th>BASEMENTAREA_MODE</th>\n",
       "      <th>YEARS_BEGINEXPLUATATION_MODE</th>\n",
       "      <th>YEARS_BUILD_MODE</th>\n",
       "      <th>COMMONAREA_MODE</th>\n",
       "      <th>ELEVATORS_MODE</th>\n",
       "      <th>ENTRANCES_MODE</th>\n",
       "      <th>FLOORSMAX_MODE</th>\n",
       "      <th>FLOORSMIN_MODE</th>\n",
       "      <th>LANDAREA_MODE</th>\n",
       "      <th>LIVINGAPARTMENTS_MODE</th>\n",
       "      <th>LIVINGAREA_MODE</th>\n",
       "      <th>NONLIVINGAPARTMENTS_MODE</th>\n",
       "      <th>NONLIVINGAREA_MODE</th>\n",
       "      <th>APARTMENTS_MEDI</th>\n",
       "      <th>BASEMENTAREA_MEDI</th>\n",
       "      <th>YEARS_BEGINEXPLUATATION_MEDI</th>\n",
       "      <th>YEARS_BUILD_MEDI</th>\n",
       "      <th>COMMONAREA_MEDI</th>\n",
       "      <th>ELEVATORS_MEDI</th>\n",
       "      <th>ENTRANCES_MEDI</th>\n",
       "      <th>FLOORSMAX_MEDI</th>\n",
       "      <th>FLOORSMIN_MEDI</th>\n",
       "      <th>LANDAREA_MEDI</th>\n",
       "      <th>LIVINGAPARTMENTS_MEDI</th>\n",
       "      <th>LIVINGAREA_MEDI</th>\n",
       "      <th>NONLIVINGAPARTMENTS_MEDI</th>\n",
       "      <th>NONLIVINGAREA_MEDI</th>\n",
       "      <th>FONDKAPREMONT_MODE</th>\n",
       "      <th>HOUSETYPE_MODE</th>\n",
       "      <th>TOTALAREA_MODE</th>\n",
       "      <th>WALLSMATERIAL_MODE</th>\n",
       "      <th>EMERGENCYSTATE_MODE</th>\n",
       "      <th>OBS_30_CNT_SOCIAL_CIRCLE</th>\n",
       "      <th>DEF_30_CNT_SOCIAL_CIRCLE</th>\n",
       "      <th>OBS_60_CNT_SOCIAL_CIRCLE</th>\n",
       "      <th>DEF_60_CNT_SOCIAL_CIRCLE</th>\n",
       "      <th>DAYS_LAST_PHONE_CHANGE</th>\n",
       "      <th>FLAG_DOCUMENT_2</th>\n",
       "      <th>FLAG_DOCUMENT_3</th>\n",
       "      <th>FLAG_DOCUMENT_4</th>\n",
       "      <th>FLAG_DOCUMENT_5</th>\n",
       "      <th>FLAG_DOCUMENT_6</th>\n",
       "      <th>FLAG_DOCUMENT_7</th>\n",
       "      <th>FLAG_DOCUMENT_8</th>\n",
       "      <th>FLAG_DOCUMENT_9</th>\n",
       "      <th>FLAG_DOCUMENT_10</th>\n",
       "      <th>FLAG_DOCUMENT_11</th>\n",
       "      <th>FLAG_DOCUMENT_12</th>\n",
       "      <th>FLAG_DOCUMENT_13</th>\n",
       "      <th>FLAG_DOCUMENT_14</th>\n",
       "      <th>FLAG_DOCUMENT_15</th>\n",
       "      <th>FLAG_DOCUMENT_16</th>\n",
       "      <th>FLAG_DOCUMENT_17</th>\n",
       "      <th>FLAG_DOCUMENT_18</th>\n",
       "      <th>FLAG_DOCUMENT_19</th>\n",
       "      <th>FLAG_DOCUMENT_20</th>\n",
       "      <th>FLAG_DOCUMENT_21</th>\n",
       "      <th>AMT_REQ_CREDIT_BUREAU_HOUR</th>\n",
       "      <th>AMT_REQ_CREDIT_BUREAU_DAY</th>\n",
       "      <th>AMT_REQ_CREDIT_BUREAU_WEEK</th>\n",
       "      <th>AMT_REQ_CREDIT_BUREAU_MON</th>\n",
       "      <th>AMT_REQ_CREDIT_BUREAU_QRT</th>\n",
       "      <th>AMT_REQ_CREDIT_BUREAU_YEAR</th>\n",
       "    </tr>\n",
       "  </thead>\n",
       "  <tbody>\n",
       "    <tr>\n",
       "      <th>99355</th>\n",
       "      <td>215354</td>\n",
       "      <td>0</td>\n",
       "      <td>Cash loans</td>\n",
       "      <td>F</td>\n",
       "      <td>Y</td>\n",
       "      <td>N</td>\n",
       "      <td>0</td>\n",
       "      <td>270000.0</td>\n",
       "      <td>720000.0</td>\n",
       "      <td>21181.5</td>\n",
       "      <td>720000.0</td>\n",
       "      <td>Unaccompanied</td>\n",
       "      <td>Working</td>\n",
       "      <td>Higher education</td>\n",
       "      <td>Married</td>\n",
       "      <td>House / apartment</td>\n",
       "      <td>0.028663</td>\n",
       "      <td>-17520</td>\n",
       "      <td>-939</td>\n",
       "      <td>-1203.0</td>\n",
       "      <td>-1064</td>\n",
       "      <td>4.0</td>\n",
       "      <td>1</td>\n",
       "      <td>1</td>\n",
       "      <td>0</td>\n",
       "      <td>1</td>\n",
       "      <td>0</td>\n",
       "      <td>0</td>\n",
       "      <td>Accountants</td>\n",
       "      <td>2.0</td>\n",
       "      <td>2</td>\n",
       "      <td>2</td>\n",
       "      <td>MONDAY</td>\n",
       "      <td>13</td>\n",
       "      <td>0</td>\n",
       "      <td>0</td>\n",
       "      <td>0</td>\n",
       "      <td>0</td>\n",
       "      <td>0</td>\n",
       "      <td>0</td>\n",
       "      <td>Trade: type 7</td>\n",
       "      <td>0.873736</td>\n",
       "      <td>0.522745</td>\n",
       "      <td>0.231439</td>\n",
       "      <td>NaN</td>\n",
       "      <td>NaN</td>\n",
       "      <td>NaN</td>\n",
       "      <td>NaN</td>\n",
       "      <td>NaN</td>\n",
       "      <td>NaN</td>\n",
       "      <td>NaN</td>\n",
       "      <td>NaN</td>\n",
       "      <td>NaN</td>\n",
       "      <td>NaN</td>\n",
       "      <td>NaN</td>\n",
       "      <td>NaN</td>\n",
       "      <td>NaN</td>\n",
       "      <td>NaN</td>\n",
       "      <td>NaN</td>\n",
       "      <td>NaN</td>\n",
       "      <td>NaN</td>\n",
       "      <td>NaN</td>\n",
       "      <td>NaN</td>\n",
       "      <td>NaN</td>\n",
       "      <td>NaN</td>\n",
       "      <td>NaN</td>\n",
       "      <td>NaN</td>\n",
       "      <td>NaN</td>\n",
       "      <td>NaN</td>\n",
       "      <td>NaN</td>\n",
       "      <td>NaN</td>\n",
       "      <td>NaN</td>\n",
       "      <td>NaN</td>\n",
       "      <td>NaN</td>\n",
       "      <td>NaN</td>\n",
       "      <td>NaN</td>\n",
       "      <td>NaN</td>\n",
       "      <td>NaN</td>\n",
       "      <td>NaN</td>\n",
       "      <td>NaN</td>\n",
       "      <td>NaN</td>\n",
       "      <td>NaN</td>\n",
       "      <td>NaN</td>\n",
       "      <td>NaN</td>\n",
       "      <td>NaN</td>\n",
       "      <td>NaN</td>\n",
       "      <td>NaN</td>\n",
       "      <td>NaN</td>\n",
       "      <td>NaN</td>\n",
       "      <td>NaN</td>\n",
       "      <td>NaN</td>\n",
       "      <td>1.0</td>\n",
       "      <td>1.0</td>\n",
       "      <td>1.0</td>\n",
       "      <td>1.0</td>\n",
       "      <td>-1553.0</td>\n",
       "      <td>0</td>\n",
       "      <td>1</td>\n",
       "      <td>0</td>\n",
       "      <td>0</td>\n",
       "      <td>0</td>\n",
       "      <td>0</td>\n",
       "      <td>0</td>\n",
       "      <td>0</td>\n",
       "      <td>0</td>\n",
       "      <td>0</td>\n",
       "      <td>0</td>\n",
       "      <td>0</td>\n",
       "      <td>0</td>\n",
       "      <td>0</td>\n",
       "      <td>0</td>\n",
       "      <td>0</td>\n",
       "      <td>0</td>\n",
       "      <td>0</td>\n",
       "      <td>0</td>\n",
       "      <td>0</td>\n",
       "      <td>0.0</td>\n",
       "      <td>0.0</td>\n",
       "      <td>0.0</td>\n",
       "      <td>0.0</td>\n",
       "      <td>0.0</td>\n",
       "      <td>3.0</td>\n",
       "    </tr>\n",
       "  </tbody>\n",
       "</table>\n",
       "</div>"
      ],
      "text/plain": [
       "       SK_ID_CURR  TARGET NAME_CONTRACT_TYPE CODE_GENDER FLAG_OWN_CAR  \\\n",
       "99355      215354       0         Cash loans           F            Y   \n",
       "\n",
       "      FLAG_OWN_REALTY  CNT_CHILDREN  AMT_INCOME_TOTAL  AMT_CREDIT  \\\n",
       "99355               N             0          270000.0    720000.0   \n",
       "\n",
       "       AMT_ANNUITY  AMT_GOODS_PRICE NAME_TYPE_SUITE NAME_INCOME_TYPE  \\\n",
       "99355      21181.5         720000.0   Unaccompanied          Working   \n",
       "\n",
       "      NAME_EDUCATION_TYPE NAME_FAMILY_STATUS  NAME_HOUSING_TYPE  \\\n",
       "99355    Higher education            Married  House / apartment   \n",
       "\n",
       "       REGION_POPULATION_RELATIVE  DAYS_BIRTH  DAYS_EMPLOYED  \\\n",
       "99355                    0.028663      -17520           -939   \n",
       "\n",
       "       DAYS_REGISTRATION  DAYS_ID_PUBLISH  OWN_CAR_AGE  FLAG_MOBIL  \\\n",
       "99355            -1203.0            -1064          4.0           1   \n",
       "\n",
       "       FLAG_EMP_PHONE  FLAG_WORK_PHONE  FLAG_CONT_MOBILE  FLAG_PHONE  \\\n",
       "99355               1                0                 1           0   \n",
       "\n",
       "       FLAG_EMAIL OCCUPATION_TYPE  CNT_FAM_MEMBERS  REGION_RATING_CLIENT  \\\n",
       "99355           0     Accountants              2.0                     2   \n",
       "\n",
       "       REGION_RATING_CLIENT_W_CITY WEEKDAY_APPR_PROCESS_START  \\\n",
       "99355                            2                     MONDAY   \n",
       "\n",
       "       HOUR_APPR_PROCESS_START  REG_REGION_NOT_LIVE_REGION  \\\n",
       "99355                       13                           0   \n",
       "\n",
       "       REG_REGION_NOT_WORK_REGION  LIVE_REGION_NOT_WORK_REGION  \\\n",
       "99355                           0                            0   \n",
       "\n",
       "       REG_CITY_NOT_LIVE_CITY  REG_CITY_NOT_WORK_CITY  \\\n",
       "99355                       0                       0   \n",
       "\n",
       "       LIVE_CITY_NOT_WORK_CITY ORGANIZATION_TYPE  EXT_SOURCE_1  EXT_SOURCE_2  \\\n",
       "99355                        0     Trade: type 7      0.873736      0.522745   \n",
       "\n",
       "       EXT_SOURCE_3  APARTMENTS_AVG  BASEMENTAREA_AVG  \\\n",
       "99355      0.231439             NaN               NaN   \n",
       "\n",
       "       YEARS_BEGINEXPLUATATION_AVG  YEARS_BUILD_AVG  COMMONAREA_AVG  \\\n",
       "99355                          NaN              NaN             NaN   \n",
       "\n",
       "       ELEVATORS_AVG  ENTRANCES_AVG  FLOORSMAX_AVG  FLOORSMIN_AVG  \\\n",
       "99355            NaN            NaN            NaN            NaN   \n",
       "\n",
       "       LANDAREA_AVG  LIVINGAPARTMENTS_AVG  LIVINGAREA_AVG  \\\n",
       "99355           NaN                   NaN             NaN   \n",
       "\n",
       "       NONLIVINGAPARTMENTS_AVG  NONLIVINGAREA_AVG  APARTMENTS_MODE  \\\n",
       "99355                      NaN                NaN              NaN   \n",
       "\n",
       "       BASEMENTAREA_MODE  YEARS_BEGINEXPLUATATION_MODE  YEARS_BUILD_MODE  \\\n",
       "99355                NaN                           NaN               NaN   \n",
       "\n",
       "       COMMONAREA_MODE  ELEVATORS_MODE  ENTRANCES_MODE  FLOORSMAX_MODE  \\\n",
       "99355              NaN             NaN             NaN             NaN   \n",
       "\n",
       "       FLOORSMIN_MODE  LANDAREA_MODE  LIVINGAPARTMENTS_MODE  LIVINGAREA_MODE  \\\n",
       "99355             NaN            NaN                    NaN              NaN   \n",
       "\n",
       "       NONLIVINGAPARTMENTS_MODE  NONLIVINGAREA_MODE  APARTMENTS_MEDI  \\\n",
       "99355                       NaN                 NaN              NaN   \n",
       "\n",
       "       BASEMENTAREA_MEDI  YEARS_BEGINEXPLUATATION_MEDI  YEARS_BUILD_MEDI  \\\n",
       "99355                NaN                           NaN               NaN   \n",
       "\n",
       "       COMMONAREA_MEDI  ELEVATORS_MEDI  ENTRANCES_MEDI  FLOORSMAX_MEDI  \\\n",
       "99355              NaN             NaN             NaN             NaN   \n",
       "\n",
       "       FLOORSMIN_MEDI  LANDAREA_MEDI  LIVINGAPARTMENTS_MEDI  LIVINGAREA_MEDI  \\\n",
       "99355             NaN            NaN                    NaN              NaN   \n",
       "\n",
       "       NONLIVINGAPARTMENTS_MEDI  NONLIVINGAREA_MEDI FONDKAPREMONT_MODE  \\\n",
       "99355                       NaN                 NaN                NaN   \n",
       "\n",
       "      HOUSETYPE_MODE  TOTALAREA_MODE WALLSMATERIAL_MODE EMERGENCYSTATE_MODE  \\\n",
       "99355            NaN             NaN                NaN                 NaN   \n",
       "\n",
       "       OBS_30_CNT_SOCIAL_CIRCLE  DEF_30_CNT_SOCIAL_CIRCLE  \\\n",
       "99355                       1.0                       1.0   \n",
       "\n",
       "       OBS_60_CNT_SOCIAL_CIRCLE  DEF_60_CNT_SOCIAL_CIRCLE  \\\n",
       "99355                       1.0                       1.0   \n",
       "\n",
       "       DAYS_LAST_PHONE_CHANGE  FLAG_DOCUMENT_2  FLAG_DOCUMENT_3  \\\n",
       "99355                 -1553.0                0                1   \n",
       "\n",
       "       FLAG_DOCUMENT_4  FLAG_DOCUMENT_5  FLAG_DOCUMENT_6  FLAG_DOCUMENT_7  \\\n",
       "99355                0                0                0                0   \n",
       "\n",
       "       FLAG_DOCUMENT_8  FLAG_DOCUMENT_9  FLAG_DOCUMENT_10  FLAG_DOCUMENT_11  \\\n",
       "99355                0                0                 0                 0   \n",
       "\n",
       "       FLAG_DOCUMENT_12  FLAG_DOCUMENT_13  FLAG_DOCUMENT_14  FLAG_DOCUMENT_15  \\\n",
       "99355                 0                 0                 0                 0   \n",
       "\n",
       "       FLAG_DOCUMENT_16  FLAG_DOCUMENT_17  FLAG_DOCUMENT_18  FLAG_DOCUMENT_19  \\\n",
       "99355                 0                 0                 0                 0   \n",
       "\n",
       "       FLAG_DOCUMENT_20  FLAG_DOCUMENT_21  AMT_REQ_CREDIT_BUREAU_HOUR  \\\n",
       "99355                 0                 0                         0.0   \n",
       "\n",
       "       AMT_REQ_CREDIT_BUREAU_DAY  AMT_REQ_CREDIT_BUREAU_WEEK  \\\n",
       "99355                        0.0                         0.0   \n",
       "\n",
       "       AMT_REQ_CREDIT_BUREAU_MON  AMT_REQ_CREDIT_BUREAU_QRT  \\\n",
       "99355                        0.0                        0.0   \n",
       "\n",
       "       AMT_REQ_CREDIT_BUREAU_YEAR  \n",
       "99355                         3.0  "
      ]
     },
     "execution_count": 8,
     "metadata": {},
     "output_type": "execute_result"
    }
   ],
   "source": [
    "data.loc[data[\"SK_ID_CURR\"]==215354]"
   ]
  },
  {
   "cell_type": "code",
   "execution_count": null,
   "metadata": {},
   "outputs": [],
   "source": []
  }
 ],
 "metadata": {
  "kernelspec": {
   "display_name": "Python 3",
   "language": "python",
   "name": "python3"
  },
  "language_info": {
   "codemirror_mode": {
    "name": "ipython",
    "version": 3
   },
   "file_extension": ".py",
   "mimetype": "text/x-python",
   "name": "python",
   "nbconvert_exporter": "python",
   "pygments_lexer": "ipython3",
   "version": "3.5.4"
  }
 },
 "nbformat": 4,
 "nbformat_minor": 2
}
