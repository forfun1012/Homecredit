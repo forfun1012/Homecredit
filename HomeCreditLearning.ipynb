{
 "cells": [
  {
   "cell_type": "code",
   "execution_count": 1,
   "metadata": {},
   "outputs": [
    {
     "data": {
      "text/plain": [
       "['prev_check2_clean.csv',\n",
       " 'application_test.csv',\n",
       " '.DS_Store',\n",
       " 'HomeCredit_columns_description.csv',\n",
       " 'POS_CASH_balance.csv',\n",
       " 'train_set.csv',\n",
       " 'test_set.csv',\n",
       " 'credit_card_balance.csv',\n",
       " 'installments_payments.csv',\n",
       " 'application_train.csv',\n",
       " 'bureau.csv',\n",
       " 'bu_clean.csv',\n",
       " 'prev_check1_clean.csv',\n",
       " 'previous_application.csv',\n",
       " 'HomeCredit_columns_description.xls',\n",
       " 'bureau_balance.csv',\n",
       " 'sample_submission.csv']"
      ]
     },
     "execution_count": 1,
     "metadata": {},
     "output_type": "execute_result"
    }
   ],
   "source": [
    "import os\n",
    "cwd = os.getcwd()\n",
    "data_dir = cwd + '/dataset'\n",
    "os.listdir(data_dir)"
   ]
  },
  {
   "cell_type": "code",
   "execution_count": 34,
   "metadata": {},
   "outputs": [
    {
     "data": {
      "text/html": [
       "<script>requirejs.config({paths: { 'plotly': ['https://cdn.plot.ly/plotly-latest.min']},});if(!window.Plotly) {{require(['plotly'],function(plotly) {window.Plotly=plotly;});}}</script>"
      ],
      "text/vnd.plotly.v1+html": [
       "<script>requirejs.config({paths: { 'plotly': ['https://cdn.plot.ly/plotly-latest.min']},});if(!window.Plotly) {{require(['plotly'],function(plotly) {window.Plotly=plotly;});}}</script>"
      ]
     },
     "metadata": {},
     "output_type": "display_data"
    }
   ],
   "source": [
    "import numpy as np\n",
    "import pandas as pd\n",
    "import matplotlib.pyplot as plt\n",
    "import plotly.offline as py\n",
    "py.init_notebook_mode(connected=True)\n",
    "import plotly.graph_objs as go\n",
    "import plotly.tools as tls\n",
    "import seaborn as sns\n",
    "\n",
    "import lightgbm as lgb\n",
    "from sklearn.cross_validation import train_test_split\n",
    "from sklearn.metrics import auc\n",
    "from sklearn.model_selection import GridSearchCV\n",
    "\n",
    "%matplotlib inline\n",
    "pd.set_option('max_columns',500)\n",
    "pd.set_option('max_rows',500)"
   ]
  },
  {
   "cell_type": "code",
   "execution_count": 3,
   "metadata": {},
   "outputs": [],
   "source": [
    "train_set = pd.read_csv(data_dir + \"/train_set.csv\",index_col='SK_ID_CURR')\n",
    "test_set = pd.read_csv(data_dir + \"/test_set.csv\",index_col='SK_ID_CURR')"
   ]
  },
  {
   "cell_type": "code",
   "execution_count": 4,
   "metadata": {},
   "outputs": [],
   "source": [
    "y_train = train_set[\"TARGET\"]\n",
    "x_train = train_set.drop([\"TARGET\"],axis = 1)\n",
    "x_test = test_set"
   ]
  },
  {
   "cell_type": "code",
   "execution_count": 5,
   "metadata": {},
   "outputs": [],
   "source": [
    "X_train, X_valid, Y_train, Y_valid = train_test_split(x_train, y_train, test_size=0.2, random_state=10)\n",
    "#train_set.info()\n",
    "#type(y_train[0])"
   ]
  },
  {
   "cell_type": "code",
   "execution_count": 38,
   "metadata": {},
   "outputs": [
    {
     "name": "stdout",
     "output_type": "stream",
     "text": [
      "Start training...\n"
     ]
    }
   ],
   "source": [
    "print('Start training...')\n",
    "gbm = lgb.LGBMRegressor(objective='binary',\n",
    "                        max_depth=8,\n",
    "                        #subsample=0.9,\n",
    "                        #colsample_bytree=0.8,\n",
    "                        #reg_alpha=0.1,\n",
    "                        #reg_lambda=0.1,\n",
    "                        #min_split_gain=0.01,\n",
    "                        #min_child_weight=2,\n",
    "                        #num_leaves=50,\n",
    "                        #learning_rate=0.03,\n",
    "                        n_estimators=2000,\n",
    "                        #min_data_in_leaf=40,\n",
    "                        is_ubalance=True,\n",
    "                        #feature_fraction=0.8,\n",
    "                        verbose=-1)"
   ]
  },
  {
   "cell_type": "code",
   "execution_count": null,
   "metadata": {},
   "outputs": [
    {
     "name": "stdout",
     "output_type": "stream",
     "text": [
      "Training until validation scores don't improve for 300 rounds.\n",
      "[100]\tvalid_0's auc: 0.708724\n",
      "[200]\tvalid_0's auc: 0.717886\n",
      "[300]\tvalid_0's auc: 0.726019\n",
      "[400]\tvalid_0's auc: 0.734302\n",
      "[500]\tvalid_0's auc: 0.739555\n",
      "[600]\tvalid_0's auc: 0.743333\n",
      "[700]\tvalid_0's auc: 0.745701\n",
      "[800]\tvalid_0's auc: 0.747298\n",
      "[900]\tvalid_0's auc: 0.748626\n",
      "[1000]\tvalid_0's auc: 0.749456\n",
      "[1100]\tvalid_0's auc: 0.750037\n",
      "[1200]\tvalid_0's auc: 0.75049\n",
      "[1300]\tvalid_0's auc: 0.75083\n",
      "[1400]\tvalid_0's auc: 0.751126\n",
      "[1500]\tvalid_0's auc: 0.751375\n",
      "[1600]\tvalid_0's auc: 0.751556\n",
      "[1700]\tvalid_0's auc: 0.751659\n",
      "[1800]\tvalid_0's auc: 0.751747\n",
      "[1900]\tvalid_0's auc: 0.751837\n",
      "[2000]\tvalid_0's auc: 0.751869\n",
      "Did not meet early stopping. Best iteration is:\n",
      "[1990]\tvalid_0's auc: 0.75189\n",
      "Training until validation scores don't improve for 300 rounds.\n",
      "[100]\tvalid_0's auc: 0.708059\n",
      "[200]\tvalid_0's auc: 0.715858\n",
      "[300]\tvalid_0's auc: 0.724631\n",
      "[400]\tvalid_0's auc: 0.732596\n",
      "[500]\tvalid_0's auc: 0.738682\n",
      "[600]\tvalid_0's auc: 0.742295\n",
      "[700]\tvalid_0's auc: 0.745331\n",
      "[800]\tvalid_0's auc: 0.747243\n",
      "[900]\tvalid_0's auc: 0.748372\n",
      "[1000]\tvalid_0's auc: 0.749235\n",
      "[1100]\tvalid_0's auc: 0.74981\n",
      "[1200]\tvalid_0's auc: 0.750273\n",
      "[1300]\tvalid_0's auc: 0.750697\n",
      "[1400]\tvalid_0's auc: 0.751031\n",
      "[1500]\tvalid_0's auc: 0.751383\n",
      "[1600]\tvalid_0's auc: 0.75158\n",
      "[1700]\tvalid_0's auc: 0.751704\n",
      "[1800]\tvalid_0's auc: 0.751795\n",
      "[1900]\tvalid_0's auc: 0.751959\n",
      "[2000]\tvalid_0's auc: 0.752103\n",
      "Did not meet early stopping. Best iteration is:\n",
      "[2000]\tvalid_0's auc: 0.752103\n",
      "Training until validation scores don't improve for 300 rounds.\n"
     ]
    }
   ],
   "source": [
    "param_grid = {\n",
    "    'learning_rate':[0.01,0.05,0.1],\n",
    "    'num_leaves':[20, 30, 40, 50, 60],   \n",
    "}\n",
    "gbm_search = GridSearchCV(gbm, param_grid)\n",
    "gbm_search.fit(X_train,Y_train,\n",
    "               eval_set=[(X_valid,Y_valid)],\n",
    "               eval_metric='auc',\n",
    "               early_stopping_rounds=300,\n",
    "               verbose=100)"
   ]
  },
  {
   "cell_type": "code",
   "execution_count": 33,
   "metadata": {},
   "outputs": [
    {
     "name": "stdout",
     "output_type": "stream",
     "text": [
      "Training until validation scores don't improve for 300 rounds.\n",
      "[100]\ttraining's auc: 0.758017\tvalid_1's auc: 0.732217\n",
      "[200]\ttraining's auc: 0.786485\tvalid_1's auc: 0.747745\n",
      "[300]\ttraining's auc: 0.805308\tvalid_1's auc: 0.752886\n",
      "[400]\ttraining's auc: 0.819702\tvalid_1's auc: 0.75501\n",
      "[500]\ttraining's auc: 0.833216\tvalid_1's auc: 0.756204\n",
      "[600]\ttraining's auc: 0.844939\tvalid_1's auc: 0.75673\n",
      "[700]\ttraining's auc: 0.855696\tvalid_1's auc: 0.756689\n",
      "[800]\ttraining's auc: 0.866025\tvalid_1's auc: 0.75699\n",
      "[900]\ttraining's auc: 0.875015\tvalid_1's auc: 0.757155\n",
      "[1000]\ttraining's auc: 0.883589\tvalid_1's auc: 0.756897\n",
      "[1100]\ttraining's auc: 0.891481\tvalid_1's auc: 0.756933\n",
      "Early stopping, best iteration is:\n",
      "[856]\ttraining's auc: 0.87098\tvalid_1's auc: 0.757235\n"
     ]
    },
    {
     "data": {
      "text/plain": [
       "LGBMRegressor(boosting_type='gbdt', class_weight=None, colsample_bytree=1.0,\n",
       "       is_ubalance=True, learning_rate=0.03, max_depth=8,\n",
       "       min_child_samples=20, min_child_weight=2, min_split_gain=0.0,\n",
       "       n_estimators=10000, n_jobs=-1, num_leaves=50, objective='binary',\n",
       "       random_state=None, reg_alpha=0.1, reg_lambda=0.1, silent=True,\n",
       "       subsample=0.9, subsample_for_bin=200000, subsample_freq=1,\n",
       "       verbose=-1)"
      ]
     },
     "execution_count": 33,
     "metadata": {},
     "output_type": "execute_result"
    }
   ],
   "source": [
    "gbm.fit(X_train,Y_train,\n",
    "        eval_set=[(X_train,Y_train),(X_valid,Y_valid)],\n",
    "        eval_metric='auc',\n",
    "        verbose=100,\n",
    "        )"
   ]
  },
  {
   "cell_type": "code",
   "execution_count": 8,
   "metadata": {},
   "outputs": [
    {
     "data": {
      "application/vnd.plotly.v1+json": {
       "data": [
        {
         "marker": {
          "color": [
           185,
           203,
           123,
           188,
           1824,
           2687,
           2541,
           455,
           544,
           439,
           261,
           2755,
           2102,
           2272,
           16,
           280,
           327,
           70,
           97,
           2216,
           2682,
           2688,
           869,
           0,
           1125,
           75,
           191,
           1832,
           234,
           1924,
           1092,
           1795,
           812,
           653,
           495,
           649,
           148,
           2004,
           933,
           1015,
           858,
           1608,
           1980,
           1130
          ],
          "colorscale": "Portland",
          "showscale": true,
          "size": 25,
          "sizemode": "diameter",
          "sizeref": 1
         },
         "mode": "markers",
         "name": "LGBM",
         "text": [
          "NAME_CONTRACT_TYPE",
          "FLAG_OWN_CAR",
          "FLAG_OWN_REALTY",
          "CNT_CHILDREN",
          "AMT_INCOME_TOTAL",
          "AMT_CREDIT",
          "AMT_ANNUITY",
          "NAME_INCOME_TYPE",
          "NAME_EDUCATION_TYPE",
          "NAME_FAMILY_STATUS",
          "NAME_HOUSING_TYPE",
          "DAYS_BIRTH",
          "DAYS_EMPLOYED",
          "DAYS_REGISTRATION",
          "FLAG_CONT_MOBILE",
          "CNT_FAM_MEMBERS",
          "REGION_RATING_CLIENT_W_CITY",
          "LIVE_REGION_NOT_WORK_REGION",
          "LIVE_CITY_NOT_WORK_CITY",
          "EXT_SOURCE_1",
          "EXT_SOURCE_2",
          "EXT_SOURCE_3",
          "BU_ACTIVE_CREDIT",
          "BU_BADDEBT_CREDIT",
          "BU_CLOSE_CREDIT",
          "BU_SOLD_CREDIT",
          "BU_MAX_DAY_OVERDUE",
          "BU_SUM_DEBT",
          "BU_SUM_OVERDUE",
          "AMT_MAX_APPROVED",
          "AMT_MAX_REFUSED",
          "AMT_MIN_APPROVED",
          "AMT_MIN_REFUSED",
          "CNT_APPROVED",
          "CNT_CANCELED",
          "CNT_REFUSED",
          "CNT_UNUSED",
          "DAYS_LAST_APPROVED",
          "DAYS_LAST_DUE",
          "DAYS_LAST_REFUSED",
          "DAYS_TERMINATION",
          "AMT_INSTALMENT",
          "AMT_PAYMENT",
          "AMT_TOTAL_RECEIVABLE"
         ],
         "type": "scatter",
         "x": [
          "NAME_CONTRACT_TYPE",
          "FLAG_OWN_CAR",
          "FLAG_OWN_REALTY",
          "CNT_CHILDREN",
          "AMT_INCOME_TOTAL",
          "AMT_CREDIT",
          "AMT_ANNUITY",
          "NAME_INCOME_TYPE",
          "NAME_EDUCATION_TYPE",
          "NAME_FAMILY_STATUS",
          "NAME_HOUSING_TYPE",
          "DAYS_BIRTH",
          "DAYS_EMPLOYED",
          "DAYS_REGISTRATION",
          "FLAG_CONT_MOBILE",
          "CNT_FAM_MEMBERS",
          "REGION_RATING_CLIENT_W_CITY",
          "LIVE_REGION_NOT_WORK_REGION",
          "LIVE_CITY_NOT_WORK_CITY",
          "EXT_SOURCE_1",
          "EXT_SOURCE_2",
          "EXT_SOURCE_3",
          "BU_ACTIVE_CREDIT",
          "BU_BADDEBT_CREDIT",
          "BU_CLOSE_CREDIT",
          "BU_SOLD_CREDIT",
          "BU_MAX_DAY_OVERDUE",
          "BU_SUM_DEBT",
          "BU_SUM_OVERDUE",
          "AMT_MAX_APPROVED",
          "AMT_MAX_REFUSED",
          "AMT_MIN_APPROVED",
          "AMT_MIN_REFUSED",
          "CNT_APPROVED",
          "CNT_CANCELED",
          "CNT_REFUSED",
          "CNT_UNUSED",
          "DAYS_LAST_APPROVED",
          "DAYS_LAST_DUE",
          "DAYS_LAST_REFUSED",
          "DAYS_TERMINATION",
          "AMT_INSTALMENT",
          "AMT_PAYMENT",
          "AMT_TOTAL_RECEIVABLE"
         ],
         "y": [
          185,
          203,
          123,
          188,
          1824,
          2687,
          2541,
          455,
          544,
          439,
          261,
          2755,
          2102,
          2272,
          16,
          280,
          327,
          70,
          97,
          2216,
          2682,
          2688,
          869,
          0,
          1125,
          75,
          191,
          1832,
          234,
          1924,
          1092,
          1795,
          812,
          653,
          495,
          649,
          148,
          2004,
          933,
          1015,
          858,
          1608,
          1980,
          1130
         ]
        }
       ],
       "layout": {
        "autosize": true,
        "hovermode": "closest",
        "showlegend": false,
        "title": "Feature Importances",
        "yaxis": {
         "gridwidth": 2,
         "ticklen": 5,
         "title": "Feature Importance"
        }
       }
      },
      "text/html": [
       "<div id=\"7029d13b-2e36-4f50-a08e-982b84c87555\" style=\"height: 525px; width: 100%;\" class=\"plotly-graph-div\"></div><script type=\"text/javascript\">require([\"plotly\"], function(Plotly) { window.PLOTLYENV=window.PLOTLYENV || {};window.PLOTLYENV.BASE_URL=\"https://plot.ly\";Plotly.newPlot(\"7029d13b-2e36-4f50-a08e-982b84c87555\", [{\"mode\": \"markers\", \"name\": \"LGBM\", \"type\": \"scatter\", \"text\": [\"NAME_CONTRACT_TYPE\", \"FLAG_OWN_CAR\", \"FLAG_OWN_REALTY\", \"CNT_CHILDREN\", \"AMT_INCOME_TOTAL\", \"AMT_CREDIT\", \"AMT_ANNUITY\", \"NAME_INCOME_TYPE\", \"NAME_EDUCATION_TYPE\", \"NAME_FAMILY_STATUS\", \"NAME_HOUSING_TYPE\", \"DAYS_BIRTH\", \"DAYS_EMPLOYED\", \"DAYS_REGISTRATION\", \"FLAG_CONT_MOBILE\", \"CNT_FAM_MEMBERS\", \"REGION_RATING_CLIENT_W_CITY\", \"LIVE_REGION_NOT_WORK_REGION\", \"LIVE_CITY_NOT_WORK_CITY\", \"EXT_SOURCE_1\", \"EXT_SOURCE_2\", \"EXT_SOURCE_3\", \"BU_ACTIVE_CREDIT\", \"BU_BADDEBT_CREDIT\", \"BU_CLOSE_CREDIT\", \"BU_SOLD_CREDIT\", \"BU_MAX_DAY_OVERDUE\", \"BU_SUM_DEBT\", \"BU_SUM_OVERDUE\", \"AMT_MAX_APPROVED\", \"AMT_MAX_REFUSED\", \"AMT_MIN_APPROVED\", \"AMT_MIN_REFUSED\", \"CNT_APPROVED\", \"CNT_CANCELED\", \"CNT_REFUSED\", \"CNT_UNUSED\", \"DAYS_LAST_APPROVED\", \"DAYS_LAST_DUE\", \"DAYS_LAST_REFUSED\", \"DAYS_TERMINATION\", \"AMT_INSTALMENT\", \"AMT_PAYMENT\", \"AMT_TOTAL_RECEIVABLE\"], \"y\": [185, 203, 123, 188, 1824, 2687, 2541, 455, 544, 439, 261, 2755, 2102, 2272, 16, 280, 327, 70, 97, 2216, 2682, 2688, 869, 0, 1125, 75, 191, 1832, 234, 1924, 1092, 1795, 812, 653, 495, 649, 148, 2004, 933, 1015, 858, 1608, 1980, 1130], \"x\": [\"NAME_CONTRACT_TYPE\", \"FLAG_OWN_CAR\", \"FLAG_OWN_REALTY\", \"CNT_CHILDREN\", \"AMT_INCOME_TOTAL\", \"AMT_CREDIT\", \"AMT_ANNUITY\", \"NAME_INCOME_TYPE\", \"NAME_EDUCATION_TYPE\", \"NAME_FAMILY_STATUS\", \"NAME_HOUSING_TYPE\", \"DAYS_BIRTH\", \"DAYS_EMPLOYED\", \"DAYS_REGISTRATION\", \"FLAG_CONT_MOBILE\", \"CNT_FAM_MEMBERS\", \"REGION_RATING_CLIENT_W_CITY\", \"LIVE_REGION_NOT_WORK_REGION\", \"LIVE_CITY_NOT_WORK_CITY\", \"EXT_SOURCE_1\", \"EXT_SOURCE_2\", \"EXT_SOURCE_3\", \"BU_ACTIVE_CREDIT\", \"BU_BADDEBT_CREDIT\", \"BU_CLOSE_CREDIT\", \"BU_SOLD_CREDIT\", \"BU_MAX_DAY_OVERDUE\", \"BU_SUM_DEBT\", \"BU_SUM_OVERDUE\", \"AMT_MAX_APPROVED\", \"AMT_MAX_REFUSED\", \"AMT_MIN_APPROVED\", \"AMT_MIN_REFUSED\", \"CNT_APPROVED\", \"CNT_CANCELED\", \"CNT_REFUSED\", \"CNT_UNUSED\", \"DAYS_LAST_APPROVED\", \"DAYS_LAST_DUE\", \"DAYS_LAST_REFUSED\", \"DAYS_TERMINATION\", \"AMT_INSTALMENT\", \"AMT_PAYMENT\", \"AMT_TOTAL_RECEIVABLE\"], \"marker\": {\"sizeref\": 1, \"sizemode\": \"diameter\", \"showscale\": true, \"colorscale\": \"Portland\", \"color\": [185, 203, 123, 188, 1824, 2687, 2541, 455, 544, 439, 261, 2755, 2102, 2272, 16, 280, 327, 70, 97, 2216, 2682, 2688, 869, 0, 1125, 75, 191, 1832, 234, 1924, 1092, 1795, 812, 653, 495, 649, 148, 2004, 933, 1015, 858, 1608, 1980, 1130], \"size\": 25}}], {\"showlegend\": false, \"autosize\": true, \"hovermode\": \"closest\", \"yaxis\": {\"ticklen\": 5, \"gridwidth\": 2, \"title\": \"Feature Importance\"}, \"title\": \"Feature Importances\"}, {\"showLink\": true, \"linkText\": \"Export to plot.ly\"})});</script>"
      ],
      "text/vnd.plotly.v1+html": [
       "<div id=\"7029d13b-2e36-4f50-a08e-982b84c87555\" style=\"height: 525px; width: 100%;\" class=\"plotly-graph-div\"></div><script type=\"text/javascript\">require([\"plotly\"], function(Plotly) { window.PLOTLYENV=window.PLOTLYENV || {};window.PLOTLYENV.BASE_URL=\"https://plot.ly\";Plotly.newPlot(\"7029d13b-2e36-4f50-a08e-982b84c87555\", [{\"mode\": \"markers\", \"name\": \"LGBM\", \"type\": \"scatter\", \"text\": [\"NAME_CONTRACT_TYPE\", \"FLAG_OWN_CAR\", \"FLAG_OWN_REALTY\", \"CNT_CHILDREN\", \"AMT_INCOME_TOTAL\", \"AMT_CREDIT\", \"AMT_ANNUITY\", \"NAME_INCOME_TYPE\", \"NAME_EDUCATION_TYPE\", \"NAME_FAMILY_STATUS\", \"NAME_HOUSING_TYPE\", \"DAYS_BIRTH\", \"DAYS_EMPLOYED\", \"DAYS_REGISTRATION\", \"FLAG_CONT_MOBILE\", \"CNT_FAM_MEMBERS\", \"REGION_RATING_CLIENT_W_CITY\", \"LIVE_REGION_NOT_WORK_REGION\", \"LIVE_CITY_NOT_WORK_CITY\", \"EXT_SOURCE_1\", \"EXT_SOURCE_2\", \"EXT_SOURCE_3\", \"BU_ACTIVE_CREDIT\", \"BU_BADDEBT_CREDIT\", \"BU_CLOSE_CREDIT\", \"BU_SOLD_CREDIT\", \"BU_MAX_DAY_OVERDUE\", \"BU_SUM_DEBT\", \"BU_SUM_OVERDUE\", \"AMT_MAX_APPROVED\", \"AMT_MAX_REFUSED\", \"AMT_MIN_APPROVED\", \"AMT_MIN_REFUSED\", \"CNT_APPROVED\", \"CNT_CANCELED\", \"CNT_REFUSED\", \"CNT_UNUSED\", \"DAYS_LAST_APPROVED\", \"DAYS_LAST_DUE\", \"DAYS_LAST_REFUSED\", \"DAYS_TERMINATION\", \"AMT_INSTALMENT\", \"AMT_PAYMENT\", \"AMT_TOTAL_RECEIVABLE\"], \"y\": [185, 203, 123, 188, 1824, 2687, 2541, 455, 544, 439, 261, 2755, 2102, 2272, 16, 280, 327, 70, 97, 2216, 2682, 2688, 869, 0, 1125, 75, 191, 1832, 234, 1924, 1092, 1795, 812, 653, 495, 649, 148, 2004, 933, 1015, 858, 1608, 1980, 1130], \"x\": [\"NAME_CONTRACT_TYPE\", \"FLAG_OWN_CAR\", \"FLAG_OWN_REALTY\", \"CNT_CHILDREN\", \"AMT_INCOME_TOTAL\", \"AMT_CREDIT\", \"AMT_ANNUITY\", \"NAME_INCOME_TYPE\", \"NAME_EDUCATION_TYPE\", \"NAME_FAMILY_STATUS\", \"NAME_HOUSING_TYPE\", \"DAYS_BIRTH\", \"DAYS_EMPLOYED\", \"DAYS_REGISTRATION\", \"FLAG_CONT_MOBILE\", \"CNT_FAM_MEMBERS\", \"REGION_RATING_CLIENT_W_CITY\", \"LIVE_REGION_NOT_WORK_REGION\", \"LIVE_CITY_NOT_WORK_CITY\", \"EXT_SOURCE_1\", \"EXT_SOURCE_2\", \"EXT_SOURCE_3\", \"BU_ACTIVE_CREDIT\", \"BU_BADDEBT_CREDIT\", \"BU_CLOSE_CREDIT\", \"BU_SOLD_CREDIT\", \"BU_MAX_DAY_OVERDUE\", \"BU_SUM_DEBT\", \"BU_SUM_OVERDUE\", \"AMT_MAX_APPROVED\", \"AMT_MAX_REFUSED\", \"AMT_MIN_APPROVED\", \"AMT_MIN_REFUSED\", \"CNT_APPROVED\", \"CNT_CANCELED\", \"CNT_REFUSED\", \"CNT_UNUSED\", \"DAYS_LAST_APPROVED\", \"DAYS_LAST_DUE\", \"DAYS_LAST_REFUSED\", \"DAYS_TERMINATION\", \"AMT_INSTALMENT\", \"AMT_PAYMENT\", \"AMT_TOTAL_RECEIVABLE\"], \"marker\": {\"sizeref\": 1, \"sizemode\": \"diameter\", \"showscale\": true, \"colorscale\": \"Portland\", \"color\": [185, 203, 123, 188, 1824, 2687, 2541, 455, 544, 439, 261, 2755, 2102, 2272, 16, 280, 327, 70, 97, 2216, 2682, 2688, 869, 0, 1125, 75, 191, 1832, 234, 1924, 1092, 1795, 812, 653, 495, 649, 148, 2004, 933, 1015, 858, 1608, 1980, 1130], \"size\": 25}}], {\"showlegend\": false, \"autosize\": true, \"hovermode\": \"closest\", \"yaxis\": {\"ticklen\": 5, \"gridwidth\": 2, \"title\": \"Feature Importance\"}, \"title\": \"Feature Importances\"}, {\"showLink\": true, \"linkText\": \"Export to plot.ly\"})});</script>"
      ]
     },
     "metadata": {},
     "output_type": "display_data"
    }
   ],
   "source": [
    "trace = go.Scatter(\n",
    "    y = gbm.feature_importances_,\n",
    "    x = x_train.columns.values,\n",
    "    mode='markers',\n",
    "    marker=dict(\n",
    "        sizemode = 'diameter',\n",
    "        sizeref = 1,\n",
    "        size = 25,\n",
    "        color = gbm.feature_importances_,\n",
    "        colorscale='Portland',\n",
    "        showscale=True\n",
    "    ),\n",
    "    text = x_train.columns.values,\n",
    "    name = 'LGBM'\n",
    ")\n",
    "layout = go.Layout(\n",
    "        autosize=True,\n",
    "        title =  'Feature Importances',\n",
    "        hovermode = 'closest',\n",
    "        yaxis = dict(\n",
    "            title = 'Feature Importance',\n",
    "            ticklen = 5,\n",
    "            gridwidth = 2\n",
    "        ),\n",
    "        showlegend = False\n",
    "    )\n",
    "fig = go.Figure(data = [trace],layout = layout)\n",
    "py.iplot(fig,filename='scatter')"
   ]
  },
  {
   "cell_type": "code",
   "execution_count": 9,
   "metadata": {},
   "outputs": [],
   "source": [
    "y_pred = gbm.predict(x_test,num_iteration=gbm.best_iteration_)"
   ]
  },
  {
   "cell_type": "code",
   "execution_count": 10,
   "metadata": {},
   "outputs": [],
   "source": [
    "y_pred[y_pred<0] = 0"
   ]
  },
  {
   "cell_type": "code",
   "execution_count": 11,
   "metadata": {},
   "outputs": [],
   "source": [
    "result = pd.DataFrame({\"SK_ID_CURR\":np.array(test_set.index),\n",
    "                       \"TARGET\":y_pred\n",
    "                      })"
   ]
  },
  {
   "cell_type": "code",
   "execution_count": 12,
   "metadata": {},
   "outputs": [],
   "source": [
    "result.to_csv('submission.csv',index=False)"
   ]
  },
  {
   "cell_type": "code",
   "execution_count": 13,
   "metadata": {},
   "outputs": [],
   "source": [
    "train_test_split?"
   ]
  },
  {
   "cell_type": "code",
   "execution_count": 14,
   "metadata": {},
   "outputs": [],
   "source": [
    "auc?"
   ]
  },
  {
   "cell_type": "code",
   "execution_count": 15,
   "metadata": {},
   "outputs": [
    {
     "data": {
      "text/plain": [
       "array([0.01308556, 0.05365547, 0.01996055, ..., 0.02566437, 0.0409772 ,\n",
       "       0.28155502])"
      ]
     },
     "execution_count": 15,
     "metadata": {},
     "output_type": "execute_result"
    }
   ],
   "source": [
    "y_pred"
   ]
  },
  {
   "cell_type": "code",
   "execution_count": 16,
   "metadata": {},
   "outputs": [
    {
     "data": {
      "text/plain": [
       "False"
      ]
     },
     "execution_count": 16,
     "metadata": {},
     "output_type": "execute_result"
    }
   ],
   "source": [
    "(y_pred<0).any()"
   ]
  },
  {
   "cell_type": "code",
   "execution_count": null,
   "metadata": {},
   "outputs": [],
   "source": []
  }
 ],
 "metadata": {
  "kernelspec": {
   "display_name": "Python 3",
   "language": "python",
   "name": "python3"
  },
  "language_info": {
   "codemirror_mode": {
    "name": "ipython",
    "version": 3
   },
   "file_extension": ".py",
   "mimetype": "text/x-python",
   "name": "python",
   "nbconvert_exporter": "python",
   "pygments_lexer": "ipython3",
   "version": "3.5.4"
  }
 },
 "nbformat": 4,
 "nbformat_minor": 2
}
