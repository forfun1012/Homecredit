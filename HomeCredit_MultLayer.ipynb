{
 "cells": [
  {
   "cell_type": "code",
   "execution_count": 1,
   "metadata": {},
   "outputs": [
    {
     "data": {
      "text/plain": [
       "['prev_check2_clean.csv',\n",
       " 'application_test.csv',\n",
       " '.DS_Store',\n",
       " 'HomeCredit_columns_description.csv',\n",
       " 'POS_CASH_balance.csv',\n",
       " 'train_set.csv',\n",
       " 'test_set.csv',\n",
       " 'credit_card_balance.csv',\n",
       " 'installments_payments.csv',\n",
       " 'application_train.csv',\n",
       " 'bureau.csv',\n",
       " 'bu_clean.csv',\n",
       " 'prev_check1_clean.csv',\n",
       " 'previous_application.csv',\n",
       " 'HomeCredit_columns_description.xls',\n",
       " 'bureau_balance.csv',\n",
       " 'sample_submission.csv']"
      ]
     },
     "execution_count": 1,
     "metadata": {},
     "output_type": "execute_result"
    }
   ],
   "source": [
    "import os\n",
    "cwd = os.getcwd()\n",
    "data_dir = cwd + '/dataset'\n",
    "os.listdir(data_dir)"
   ]
  },
  {
   "cell_type": "code",
   "execution_count": 129,
   "metadata": {},
   "outputs": [
    {
     "data": {
      "text/html": [
       "<script>requirejs.config({paths: { 'plotly': ['https://cdn.plot.ly/plotly-latest.min']},});if(!window.Plotly) {{require(['plotly'],function(plotly) {window.Plotly=plotly;});}}</script>"
      ],
      "text/vnd.plotly.v1+html": [
       "<script>requirejs.config({paths: { 'plotly': ['https://cdn.plot.ly/plotly-latest.min']},});if(!window.Plotly) {{require(['plotly'],function(plotly) {window.Plotly=plotly;});}}</script>"
      ]
     },
     "metadata": {},
     "output_type": "display_data"
    }
   ],
   "source": [
    "import numpy as np\n",
    "import pandas as pd\n",
    "import matplotlib.pyplot as plt\n",
    "import plotly.offline as py\n",
    "py.init_notebook_mode(connected=True)\n",
    "import plotly.graph_objs as go\n",
    "import plotly.tools as tls\n",
    "import seaborn as sns\n",
    "\n",
    "import lightgbm as lgb\n",
    "from sklearn.cross_validation import train_test_split,KFold\n",
    "from sklearn.metrics import auc\n",
    "from sklearn.model_selection import GridSearchCV\n",
    "import sklearn \n",
    "#5 classifiers for stacking\n",
    "from sklearn.ensemble import (RandomForestRegressor,AdaBoostRegressor,\\\n",
    "                             GradientBoostingRegressor,ExtraTreesRegressor)\n",
    "from sklearn.svm import SVC\n",
    "\n",
    "\n",
    "%matplotlib inline\n",
    "pd.set_option('max_columns',500)\n",
    "pd.set_option('max_rows',500)"
   ]
  },
  {
   "cell_type": "code",
   "execution_count": 3,
   "metadata": {},
   "outputs": [],
   "source": [
    "train_set = pd.read_csv(data_dir + \"/train_set.csv\",index_col='SK_ID_CURR')\n",
    "test_set = pd.read_csv(data_dir + \"/test_set.csv\",index_col='SK_ID_CURR')"
   ]
  },
  {
   "cell_type": "code",
   "execution_count": 4,
   "metadata": {},
   "outputs": [],
   "source": [
    "y_train = train_set[\"TARGET\"].values\n",
    "x_train = train_set.drop([\"TARGET\"],axis = 1).values\n",
    "x_test = test_set.values"
   ]
  },
  {
   "cell_type": "code",
   "execution_count": 9,
   "metadata": {},
   "outputs": [],
   "source": [
    "X_train, X_valid, Y_train, Y_valid = train_test_split(x_train, y_train, test_size=0.2, random_state=10)"
   ]
  },
  {
   "cell_type": "code",
   "execution_count": 5,
   "metadata": {},
   "outputs": [],
   "source": [
    "#Class for extending sklearn classifier\n",
    "class SklearnWrapper(object):\n",
    "    def __init__(self, clf, seed=0, params = None):\n",
    "        params[\"random_state\"] = seed\n",
    "        self.clf = clf(**params)\n",
    "        \n",
    "    def train(self, x_train, y_train):\n",
    "        self.clf.fit(x_train,y_train)\n",
    "        \n",
    "    def predict(self, x):\n",
    "        return self.clf.predict(x)\n",
    "    \n",
    "    def fit(self, x, y):\n",
    "        return self.clf.fit(x,y)\n",
    "    \n",
    "    def feature_importances(self,x,y):\n",
    "        return self.clf.fit(x,y).feature_importances_"
   ]
  },
  {
   "cell_type": "code",
   "execution_count": 112,
   "metadata": {},
   "outputs": [],
   "source": [
    "# Random Forest parameters\n",
    "rf_params = {\n",
    "    'n_jobs': -1, \n",
    "    'n_estimators': 50,\n",
    "    'warm_start': False, \n",
    "    'max_features': 0.15,\n",
    "    'random_state':0,\n",
    "    #'max_depth': 6,\n",
    "    'max_depth': 10,\n",
    "    'min_samples_leaf': 5,\n",
    "    #'max_features' : 'sqrt',\n",
    "    'verbose': 0\n",
    "}\n",
    "# Extra Trees Parameters\n",
    "et_params = {\n",
    "    'n_jobs': -1,\n",
    "    'n_estimators':500,\n",
    "    #'max_features': 0.5,\n",
    "    'max_depth': 8,\n",
    "    'min_samples_leaf': 2,\n",
    "    'verbose': 0\n",
    "}\n",
    "# AdaBoost parameters\n",
    "ada_params = {\n",
    "    'n_estimators': 500,\n",
    "    #'learning_rate' : 0.75\n",
    "    'learning_rate' : 0.5\n",
    "}\n",
    "# Gradient Boosting parameters\n",
    "gb_params = {\n",
    "    'n_estimators': 500,\n",
    "     #'max_features': 0.2,\n",
    "    #'max_depth': 5,\n",
    "    'max_depth': 8,\n",
    "    'min_samples_leaf': 2,\n",
    "    'verbose': 0\n",
    "}\n",
    "# Support Vector Classifier parameters \n",
    "svc_params = {\n",
    "    'kernel' : 'linear',\n",
    "    #'C' : 0.025\n",
    "    'C':0.05\n",
    "}"
   ]
  },
  {
   "cell_type": "code",
   "execution_count": 113,
   "metadata": {},
   "outputs": [],
   "source": [
    "model = [(RandomForestRegressor,rf_params),\n",
    "         (AdaBoostRegressor,ada_params),\n",
    "         (GradientBoostingRegressor,gb_params),\n",
    "         (ExtraTreesRegressor,et_params)]"
   ]
  },
  {
   "cell_type": "code",
   "execution_count": 133,
   "metadata": {},
   "outputs": [],
   "source": [
    "rf_search_dict = {\n",
    "    'n_estimators': [i for i in range(50,101,10)],\n",
    "    'max_features': [i/100 for i in range(10,51,5)],\n",
    "    'max_depth': [i for i in range(4,11,2)],\n",
    "    'min_samples_leaf': [i for i in range(2,6)]\n",
    "}\n",
    "gsearch = GridSearchCV(estimator=RandomForestRegressor(), param_grid=rf_search_dict, \n",
    "                       scoring='roc_auc', cv=3)\n",
    "\n",
    "rf_params['random_state'] = 0\n",
    "rf_model = RandomForestRegressor(**rf_params)"
   ]
  },
  {
   "cell_type": "code",
   "execution_count": null,
   "metadata": {},
   "outputs": [],
   "source": [
    "#rf_model.fit(X_train,Y_train)\n",
    "gsearch.fit(X_train,Y_train)"
   ]
  },
  {
   "cell_type": "code",
   "execution_count": 116,
   "metadata": {},
   "outputs": [],
   "source": [
    "h_valid = rf_model.predict(X_valid)\n",
    "h_train = rf_model.predict(X_train)"
   ]
  },
  {
   "cell_type": "code",
   "execution_count": 117,
   "metadata": {},
   "outputs": [
    {
     "data": {
      "text/plain": [
       "0.7334376968326555"
      ]
     },
     "execution_count": 117,
     "metadata": {},
     "output_type": "execute_result"
    }
   ],
   "source": [
    "sklearn.metrics.roc_auc_score(Y_valid,h_valid)"
   ]
  },
  {
   "cell_type": "code",
   "execution_count": 118,
   "metadata": {},
   "outputs": [
    {
     "data": {
      "text/plain": [
       "0.8030506533067198"
      ]
     },
     "execution_count": 118,
     "metadata": {},
     "output_type": "execute_result"
    }
   ],
   "source": [
    "sklearn.metrics.roc_auc_score(Y_train,h_train)"
   ]
  },
  {
   "cell_type": "code",
   "execution_count": null,
   "metadata": {},
   "outputs": [],
   "source": []
  },
  {
   "cell_type": "code",
   "execution_count": 126,
   "metadata": {},
   "outputs": [
    {
     "data": {
      "text/plain": [
       "[0.1, 0.15, 0.2, 0.25, 0.3, 0.35, 0.4, 0.45]"
      ]
     },
     "execution_count": 126,
     "metadata": {},
     "output_type": "execute_result"
    }
   ],
   "source": [
    "[i/100 for i in range(10,50,5)]"
   ]
  },
  {
   "cell_type": "code",
   "execution_count": 123,
   "metadata": {},
   "outputs": [
    {
     "data": {
      "text/plain": [
       "range(0, 1)"
      ]
     },
     "execution_count": 123,
     "metadata": {},
     "output_type": "execute_result"
    }
   ],
   "source": []
  },
  {
   "cell_type": "code",
   "execution_count": null,
   "metadata": {},
   "outputs": [],
   "source": []
  }
 ],
 "metadata": {
  "kernelspec": {
   "display_name": "Python 3",
   "language": "python",
   "name": "python3"
  },
  "language_info": {
   "codemirror_mode": {
    "name": "ipython",
    "version": 3
   },
   "file_extension": ".py",
   "mimetype": "text/x-python",
   "name": "python",
   "nbconvert_exporter": "python",
   "pygments_lexer": "ipython3",
   "version": "3.5.4"
  }
 },
 "nbformat": 4,
 "nbformat_minor": 2
}
