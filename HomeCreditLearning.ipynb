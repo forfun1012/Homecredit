{
 "cells": [
  {
   "cell_type": "code",
   "execution_count": 1,
   "metadata": {},
   "outputs": [
    {
     "data": {
      "text/plain": [
       "['prev_check2_clean.csv',\n",
       " 'application_test.csv',\n",
       " '.DS_Store',\n",
       " 'HomeCredit_columns_description.csv',\n",
       " 'POS_CASH_balance.csv',\n",
       " 'train_set.csv',\n",
       " 'test_set.csv',\n",
       " 'credit_card_balance.csv',\n",
       " 'installments_payments.csv',\n",
       " 'application_train.csv',\n",
       " 'bureau.csv',\n",
       " 'bu_clean.csv',\n",
       " 'prev_check1_clean.csv',\n",
       " 'previous_application.csv',\n",
       " 'HomeCredit_columns_description.xls',\n",
       " 'bureau_balance.csv',\n",
       " 'sample_submission.csv']"
      ]
     },
     "execution_count": 1,
     "metadata": {},
     "output_type": "execute_result"
    }
   ],
   "source": [
    "import os\n",
    "cwd = os.getcwd()\n",
    "data_dir = cwd + '/dataset'\n",
    "os.listdir(data_dir)"
   ]
  },
  {
   "cell_type": "code",
   "execution_count": 2,
   "metadata": {},
   "outputs": [
    {
     "data": {
      "text/html": [
       "<script>requirejs.config({paths: { 'plotly': ['https://cdn.plot.ly/plotly-latest.min']},});if(!window.Plotly) {{require(['plotly'],function(plotly) {window.Plotly=plotly;});}}</script>"
      ],
      "text/vnd.plotly.v1+html": [
       "<script>requirejs.config({paths: { 'plotly': ['https://cdn.plot.ly/plotly-latest.min']},});if(!window.Plotly) {{require(['plotly'],function(plotly) {window.Plotly=plotly;});}}</script>"
      ]
     },
     "metadata": {},
     "output_type": "display_data"
    },
    {
     "name": "stderr",
     "output_type": "stream",
     "text": [
      "/anaconda3/envs/tensorflow35/lib/python3.5/site-packages/sklearn/cross_validation.py:41: DeprecationWarning:\n",
      "\n",
      "This module was deprecated in version 0.18 in favor of the model_selection module into which all the refactored classes and functions are moved. Also note that the interface of the new CV iterators are different from that of this module. This module will be removed in 0.20.\n",
      "\n"
     ]
    }
   ],
   "source": [
    "import numpy as np\n",
    "import pandas as pd\n",
    "import matplotlib.pyplot as plt\n",
    "import plotly.offline as py\n",
    "py.init_notebook_mode(connected=True)\n",
    "import plotly.graph_objs as go\n",
    "import plotly.tools as tls\n",
    "import seaborn as sns\n",
    "\n",
    "import lightgbm as lgb\n",
    "from sklearn.cross_validation import train_test_split,KFold\n",
    "from sklearn.metrics import auc\n",
    "from sklearn.model_selection import GridSearchCV\n",
    "\n",
    "%matplotlib inline\n",
    "pd.set_option('max_columns',500)\n",
    "pd.set_option('max_rows',500)"
   ]
  },
  {
   "cell_type": "code",
   "execution_count": 3,
   "metadata": {},
   "outputs": [],
   "source": [
    "train_set = pd.read_csv(data_dir + \"/train_set.csv\",index_col='SK_ID_CURR')\n",
    "test_set = pd.read_csv(data_dir + \"/test_set.csv\",index_col='SK_ID_CURR')"
   ]
  },
  {
   "cell_type": "code",
   "execution_count": 4,
   "metadata": {},
   "outputs": [],
   "source": [
    "y_train = train_set[\"TARGET\"].values\n",
    "x_train = train_set.drop([\"TARGET\"],axis = 1).values\n",
    "x_test = test_set.values"
   ]
  },
  {
   "cell_type": "code",
   "execution_count": 5,
   "metadata": {},
   "outputs": [],
   "source": [
    "#X_train, X_valid, Y_train, Y_valid = train_test_split(x_train, y_train, test_size=0.2, random_state=10)\n",
    "#train_set.info()\n",
    "#type(y_train[0])\n",
    "kf = KFold(len(x_train),n_folds=5)"
   ]
  },
  {
   "cell_type": "code",
   "execution_count": 6,
   "metadata": {},
   "outputs": [],
   "source": [
    "gbm = lgb.LGBMClassifier(objective='binary',\n",
    "                         max_depth=8,\n",
    "                         nthread=4,\n",
    "                         subsample=0.8715623, #bagging\n",
    "                         colsample_bytree=0.9497036, #feature fraction\n",
    "                         reg_alpha=0.041545473, #l1 regularization\n",
    "                         reg_lambda=0.0735294,  #l2 regularization\n",
    "                         min_split_gain=0.0222415,\n",
    "                         min_child_weight=39.3259775, #min data in leaf\n",
    "                         num_leaves=34,\n",
    "                         learning_rate=0.03,\n",
    "                         n_estimators=10000,\n",
    "                         is_ubalance=True,\n",
    "                         verbose=-1)"
   ]
  },
  {
   "cell_type": "code",
   "execution_count": 25,
   "metadata": {},
   "outputs": [
    {
     "name": "stdout",
     "output_type": "stream",
     "text": [
      "Start training 0 fold...\n",
      "Training until validation scores don't improve for 300 rounds.\n"
     ]
    },
    {
     "ename": "KeyboardInterrupt",
     "evalue": "",
     "output_type": "error",
     "traceback": [
      "\u001b[0;31m---------------------------------------------------------------------------\u001b[0m",
      "\u001b[0;31mKeyboardInterrupt\u001b[0m                         Traceback (most recent call last)",
      "\u001b[0;32m<ipython-input-25-7ca2f86e3a72>\u001b[0m in \u001b[0;36m<module>\u001b[0;34m()\u001b[0m\n\u001b[1;32m     12\u001b[0m             \u001b[0meval_metric\u001b[0m\u001b[0;34m=\u001b[0m\u001b[0;34m'auc'\u001b[0m\u001b[0;34m,\u001b[0m\u001b[0;34m\u001b[0m\u001b[0m\n\u001b[1;32m     13\u001b[0m             \u001b[0mearly_stopping_rounds\u001b[0m\u001b[0;34m=\u001b[0m\u001b[0;36m300\u001b[0m\u001b[0;34m,\u001b[0m\u001b[0;34m\u001b[0m\u001b[0m\n\u001b[0;32m---> 14\u001b[0;31m             \u001b[0mverbose\u001b[0m\u001b[0;34m=\u001b[0m\u001b[0;36m100\u001b[0m\u001b[0;34m,\u001b[0m\u001b[0;34m\u001b[0m\u001b[0m\n\u001b[0m\u001b[1;32m     15\u001b[0m             )\n\u001b[1;32m     16\u001b[0m     \u001b[0mresult\u001b[0m\u001b[0;34m[\u001b[0m\u001b[0;34m:\u001b[0m\u001b[0;34m,\u001b[0m\u001b[0mi\u001b[0m\u001b[0;34m]\u001b[0m \u001b[0;34m=\u001b[0m \u001b[0mgbm\u001b[0m\u001b[0;34m.\u001b[0m\u001b[0mpredict\u001b[0m\u001b[0;34m(\u001b[0m\u001b[0mx_test\u001b[0m\u001b[0;34m,\u001b[0m\u001b[0mnum_iteration\u001b[0m\u001b[0;34m=\u001b[0m\u001b[0mgbm\u001b[0m\u001b[0;34m.\u001b[0m\u001b[0mbest_iteration_\u001b[0m\u001b[0;34m)\u001b[0m\u001b[0;34m\u001b[0m\u001b[0m\n",
      "\u001b[0;32m/anaconda3/envs/tensorflow35/lib/python3.5/site-packages/lightgbm/sklearn.py\u001b[0m in \u001b[0;36mfit\u001b[0;34m(self, X, y, sample_weight, init_score, eval_set, eval_names, eval_sample_weight, eval_class_weight, eval_init_score, eval_metric, early_stopping_rounds, verbose, feature_name, categorical_feature, callbacks)\u001b[0m\n\u001b[1;32m    673\u001b[0m                                         \u001b[0mverbose\u001b[0m\u001b[0;34m=\u001b[0m\u001b[0mverbose\u001b[0m\u001b[0;34m,\u001b[0m \u001b[0mfeature_name\u001b[0m\u001b[0;34m=\u001b[0m\u001b[0mfeature_name\u001b[0m\u001b[0;34m,\u001b[0m\u001b[0;34m\u001b[0m\u001b[0m\n\u001b[1;32m    674\u001b[0m                                         \u001b[0mcategorical_feature\u001b[0m\u001b[0;34m=\u001b[0m\u001b[0mcategorical_feature\u001b[0m\u001b[0;34m,\u001b[0m\u001b[0;34m\u001b[0m\u001b[0m\n\u001b[0;32m--> 675\u001b[0;31m                                         callbacks=callbacks)\n\u001b[0m\u001b[1;32m    676\u001b[0m         \u001b[0;32mreturn\u001b[0m \u001b[0mself\u001b[0m\u001b[0;34m\u001b[0m\u001b[0m\n\u001b[1;32m    677\u001b[0m \u001b[0;34m\u001b[0m\u001b[0m\n",
      "\u001b[0;32m/anaconda3/envs/tensorflow35/lib/python3.5/site-packages/lightgbm/sklearn.py\u001b[0m in \u001b[0;36mfit\u001b[0;34m(self, X, y, sample_weight, init_score, group, eval_set, eval_names, eval_sample_weight, eval_class_weight, eval_init_score, eval_group, eval_metric, early_stopping_rounds, verbose, feature_name, categorical_feature, callbacks)\u001b[0m\n\u001b[1;32m    467\u001b[0m                               \u001b[0mverbose_eval\u001b[0m\u001b[0;34m=\u001b[0m\u001b[0mverbose\u001b[0m\u001b[0;34m,\u001b[0m \u001b[0mfeature_name\u001b[0m\u001b[0;34m=\u001b[0m\u001b[0mfeature_name\u001b[0m\u001b[0;34m,\u001b[0m\u001b[0;34m\u001b[0m\u001b[0m\n\u001b[1;32m    468\u001b[0m                               \u001b[0mcategorical_feature\u001b[0m\u001b[0;34m=\u001b[0m\u001b[0mcategorical_feature\u001b[0m\u001b[0;34m,\u001b[0m\u001b[0;34m\u001b[0m\u001b[0m\n\u001b[0;32m--> 469\u001b[0;31m                               callbacks=callbacks)\n\u001b[0m\u001b[1;32m    470\u001b[0m \u001b[0;34m\u001b[0m\u001b[0m\n\u001b[1;32m    471\u001b[0m         \u001b[0;32mif\u001b[0m \u001b[0mevals_result\u001b[0m\u001b[0;34m:\u001b[0m\u001b[0;34m\u001b[0m\u001b[0m\n",
      "\u001b[0;32m/anaconda3/envs/tensorflow35/lib/python3.5/site-packages/lightgbm/engine.py\u001b[0m in \u001b[0;36mtrain\u001b[0;34m(params, train_set, num_boost_round, valid_sets, valid_names, fobj, feval, init_model, feature_name, categorical_feature, early_stopping_rounds, evals_result, verbose_eval, learning_rates, keep_training_booster, callbacks)\u001b[0m\n\u001b[1;32m    206\u001b[0m             \u001b[0;32mif\u001b[0m \u001b[0mis_valid_contain_train\u001b[0m\u001b[0;34m:\u001b[0m\u001b[0;34m\u001b[0m\u001b[0m\n\u001b[1;32m    207\u001b[0m                 \u001b[0mevaluation_result_list\u001b[0m\u001b[0;34m.\u001b[0m\u001b[0mextend\u001b[0m\u001b[0;34m(\u001b[0m\u001b[0mbooster\u001b[0m\u001b[0;34m.\u001b[0m\u001b[0meval_train\u001b[0m\u001b[0;34m(\u001b[0m\u001b[0mfeval\u001b[0m\u001b[0;34m)\u001b[0m\u001b[0;34m)\u001b[0m\u001b[0;34m\u001b[0m\u001b[0m\n\u001b[0;32m--> 208\u001b[0;31m             \u001b[0mevaluation_result_list\u001b[0m\u001b[0;34m.\u001b[0m\u001b[0mextend\u001b[0m\u001b[0;34m(\u001b[0m\u001b[0mbooster\u001b[0m\u001b[0;34m.\u001b[0m\u001b[0meval_valid\u001b[0m\u001b[0;34m(\u001b[0m\u001b[0mfeval\u001b[0m\u001b[0;34m)\u001b[0m\u001b[0;34m)\u001b[0m\u001b[0;34m\u001b[0m\u001b[0m\n\u001b[0m\u001b[1;32m    209\u001b[0m         \u001b[0;32mtry\u001b[0m\u001b[0;34m:\u001b[0m\u001b[0;34m\u001b[0m\u001b[0m\n\u001b[1;32m    210\u001b[0m             \u001b[0;32mfor\u001b[0m \u001b[0mcb\u001b[0m \u001b[0;32min\u001b[0m \u001b[0mcallbacks_after_iter\u001b[0m\u001b[0;34m:\u001b[0m\u001b[0;34m\u001b[0m\u001b[0m\n",
      "\u001b[0;32m/anaconda3/envs/tensorflow35/lib/python3.5/site-packages/lightgbm/basic.py\u001b[0m in \u001b[0;36meval_valid\u001b[0;34m(self, feval)\u001b[0m\n\u001b[1;32m   1647\u001b[0m             \u001b[0mList\u001b[0m \u001b[0;32mwith\u001b[0m \u001b[0mevaluation\u001b[0m \u001b[0mresults\u001b[0m\u001b[0;34m.\u001b[0m\u001b[0;34m\u001b[0m\u001b[0m\n\u001b[1;32m   1648\u001b[0m         \"\"\"\n\u001b[0;32m-> 1649\u001b[0;31m         return [item for i in range_(1, self.__num_dataset)\n\u001b[0m\u001b[1;32m   1650\u001b[0m                 for item in self.__inner_eval(self.name_valid_sets[i - 1], i, feval)]\n\u001b[1;32m   1651\u001b[0m \u001b[0;34m\u001b[0m\u001b[0m\n",
      "\u001b[0;32m/anaconda3/envs/tensorflow35/lib/python3.5/site-packages/lightgbm/basic.py\u001b[0m in \u001b[0;36m<listcomp>\u001b[0;34m(.0)\u001b[0m\n\u001b[1;32m   1648\u001b[0m         \"\"\"\n\u001b[1;32m   1649\u001b[0m         return [item for i in range_(1, self.__num_dataset)\n\u001b[0;32m-> 1650\u001b[0;31m                 for item in self.__inner_eval(self.name_valid_sets[i - 1], i, feval)]\n\u001b[0m\u001b[1;32m   1651\u001b[0m \u001b[0;34m\u001b[0m\u001b[0m\n\u001b[1;32m   1652\u001b[0m     \u001b[0;32mdef\u001b[0m \u001b[0msave_model\u001b[0m\u001b[0;34m(\u001b[0m\u001b[0mself\u001b[0m\u001b[0;34m,\u001b[0m \u001b[0mfilename\u001b[0m\u001b[0;34m,\u001b[0m \u001b[0mnum_iteration\u001b[0m\u001b[0;34m=\u001b[0m\u001b[0;34m-\u001b[0m\u001b[0;36m1\u001b[0m\u001b[0;34m)\u001b[0m\u001b[0;34m:\u001b[0m\u001b[0;34m\u001b[0m\u001b[0m\n",
      "\u001b[0;32m/anaconda3/envs/tensorflow35/lib/python3.5/site-packages/lightgbm/basic.py\u001b[0m in \u001b[0;36m__inner_eval\u001b[0;34m(self, data_name, data_idx, feval)\u001b[0m\n\u001b[1;32m   1902\u001b[0m                 \u001b[0mctypes\u001b[0m\u001b[0;34m.\u001b[0m\u001b[0mc_int\u001b[0m\u001b[0;34m(\u001b[0m\u001b[0mdata_idx\u001b[0m\u001b[0;34m)\u001b[0m\u001b[0;34m,\u001b[0m\u001b[0;34m\u001b[0m\u001b[0m\n\u001b[1;32m   1903\u001b[0m                 \u001b[0mctypes\u001b[0m\u001b[0;34m.\u001b[0m\u001b[0mbyref\u001b[0m\u001b[0;34m(\u001b[0m\u001b[0mtmp_out_len\u001b[0m\u001b[0;34m)\u001b[0m\u001b[0;34m,\u001b[0m\u001b[0;34m\u001b[0m\u001b[0m\n\u001b[0;32m-> 1904\u001b[0;31m                 result.ctypes.data_as(ctypes.POINTER(ctypes.c_double))))\n\u001b[0m\u001b[1;32m   1905\u001b[0m             \u001b[0;32mif\u001b[0m \u001b[0mtmp_out_len\u001b[0m\u001b[0;34m.\u001b[0m\u001b[0mvalue\u001b[0m \u001b[0;34m!=\u001b[0m \u001b[0mself\u001b[0m\u001b[0;34m.\u001b[0m\u001b[0m__num_inner_eval\u001b[0m\u001b[0;34m:\u001b[0m\u001b[0;34m\u001b[0m\u001b[0m\n\u001b[1;32m   1906\u001b[0m                 \u001b[0;32mraise\u001b[0m \u001b[0mValueError\u001b[0m\u001b[0;34m(\u001b[0m\u001b[0;34m\"Wrong length of eval results\"\u001b[0m\u001b[0;34m)\u001b[0m\u001b[0;34m\u001b[0m\u001b[0m\n",
      "\u001b[0;31mKeyboardInterrupt\u001b[0m: "
     ]
    }
   ],
   "source": [
    "result = np.zeros((len(x_test),5))\n",
    "oof_result = np.zeros((len(x_train)))\n",
    "for i,(train_index,valid_index) in enumerate(kf):\n",
    "    X_train = x_train[train_index] \n",
    "    X_valid = x_train[valid_index]\n",
    "    Y_train = y_train[train_index]\n",
    "    Y_valid = y_train[valid_index]\n",
    "    print('Start training {} fold...'.format(i))\n",
    "    gbm.fit(X_train,Y_train,\n",
    "            eval_set=[(X_train,Y_train),(X_valid,Y_valid)],\n",
    "            eval_metric='auc',\n",
    "            early_stopping_rounds=300,\n",
    "            verbose=100,\n",
    "            )\n",
    "    result[:,i] = gbm.predict(x_test,num_iteration=gbm.best_iteration_)\n",
    "    oof_result[valid_index] = gbm.predict(X_valid,num_iteration=gbm.best_iteration_)\n",
    "    "
   ]
  },
  {
   "cell_type": "code",
   "execution_count": 8,
   "metadata": {},
   "outputs": [
    {
     "data": {
      "text/plain": [
       "\"param_grid = {\\n    'learning_rate':[0.01,0.05,0.1],\\n    'num_leaves':[20, 30, 40, 50, 60],   \\n}\\ngbm_search = GridSearchCV(gbm, param_grid)\\ngbm_search.fit(X_train,Y_train,\\n               eval_set=[(X_valid,Y_valid)],\\n               eval_metric='auc',\\n               early_stopping_rounds=300,\\n               verbose=100)\\nprint(gbm_search.best_params_)\\ngbm.fit(X_train,Y_train,\\n        eval_set=[(X_train,Y_train),(X_valid,Y_valid)],\\n        eval_metric='auc',\\n        verbose=100,\\n        )\""
      ]
     },
     "execution_count": 8,
     "metadata": {},
     "output_type": "execute_result"
    }
   ],
   "source": [
    "'''param_grid = {\n",
    "    'learning_rate':[0.01,0.05,0.1],\n",
    "    'num_leaves':[20, 30, 40, 50, 60],   \n",
    "}\n",
    "gbm_search = GridSearchCV(gbm, param_grid)\n",
    "gbm_search.fit(X_train,Y_train,\n",
    "               eval_set=[(X_valid,Y_valid)],\n",
    "               eval_metric='auc',\n",
    "               early_stopping_rounds=300,\n",
    "               verbose=100)\n",
    "print(gbm_search.best_params_)\n",
    "gbm.fit(X_train,Y_train,\n",
    "        eval_set=[(X_train,Y_train),(X_valid,Y_valid)],\n",
    "        eval_metric='auc',\n",
    "        verbose=100,\n",
    "        )'''"
   ]
  },
  {
   "cell_type": "code",
   "execution_count": 12,
   "metadata": {},
   "outputs": [
    {
     "data": {
      "application/vnd.plotly.v1+json": {
       "data": [
        {
         "marker": {
          "color": [
           151,
           173,
           89,
           143,
           1235,
           2162,
           2034,
           297,
           372,
           278,
           181,
           2085,
           1594,
           1580,
           0,
           110,
           254,
           12,
           45,
           1638,
           2194,
           1994,
           630,
           0,
           730,
           32,
           104,
           1500,
           97,
           1640,
           769,
           1396,
           615,
           509,
           344,
           367,
           53,
           1449,
           728,
           779,
           543,
           1249,
           1559,
           713
          ],
          "colorscale": "Portland",
          "showscale": true,
          "size": 25,
          "sizemode": "diameter",
          "sizeref": 1
         },
         "mode": "markers",
         "name": "LGBM",
         "text": [
          "NAME_CONTRACT_TYPE",
          "FLAG_OWN_CAR",
          "FLAG_OWN_REALTY",
          "CNT_CHILDREN",
          "AMT_INCOME_TOTAL",
          "AMT_CREDIT",
          "AMT_ANNUITY",
          "NAME_INCOME_TYPE",
          "NAME_EDUCATION_TYPE",
          "NAME_FAMILY_STATUS",
          "NAME_HOUSING_TYPE",
          "DAYS_BIRTH",
          "DAYS_EMPLOYED",
          "DAYS_REGISTRATION",
          "FLAG_CONT_MOBILE",
          "CNT_FAM_MEMBERS",
          "REGION_RATING_CLIENT_W_CITY",
          "LIVE_REGION_NOT_WORK_REGION",
          "LIVE_CITY_NOT_WORK_CITY",
          "EXT_SOURCE_1",
          "EXT_SOURCE_2",
          "EXT_SOURCE_3",
          "TARGET",
          "BU_ACTIVE_CREDIT",
          "BU_BADDEBT_CREDIT",
          "BU_CLOSE_CREDIT",
          "BU_SOLD_CREDIT",
          "BU_MAX_DAY_OVERDUE",
          "BU_SUM_DEBT",
          "BU_SUM_OVERDUE",
          "AMT_MAX_APPROVED",
          "AMT_MAX_REFUSED",
          "AMT_MIN_APPROVED",
          "AMT_MIN_REFUSED",
          "CNT_APPROVED",
          "CNT_CANCELED",
          "CNT_REFUSED",
          "CNT_UNUSED",
          "DAYS_LAST_APPROVED",
          "DAYS_LAST_DUE",
          "DAYS_LAST_REFUSED",
          "DAYS_TERMINATION",
          "AMT_INSTALMENT",
          "AMT_PAYMENT",
          "AMT_TOTAL_RECEIVABLE"
         ],
         "type": "scatter",
         "x": [
          "NAME_CONTRACT_TYPE",
          "FLAG_OWN_CAR",
          "FLAG_OWN_REALTY",
          "CNT_CHILDREN",
          "AMT_INCOME_TOTAL",
          "AMT_CREDIT",
          "AMT_ANNUITY",
          "NAME_INCOME_TYPE",
          "NAME_EDUCATION_TYPE",
          "NAME_FAMILY_STATUS",
          "NAME_HOUSING_TYPE",
          "DAYS_BIRTH",
          "DAYS_EMPLOYED",
          "DAYS_REGISTRATION",
          "FLAG_CONT_MOBILE",
          "CNT_FAM_MEMBERS",
          "REGION_RATING_CLIENT_W_CITY",
          "LIVE_REGION_NOT_WORK_REGION",
          "LIVE_CITY_NOT_WORK_CITY",
          "EXT_SOURCE_1",
          "EXT_SOURCE_2",
          "EXT_SOURCE_3",
          "TARGET",
          "BU_ACTIVE_CREDIT",
          "BU_BADDEBT_CREDIT",
          "BU_CLOSE_CREDIT",
          "BU_SOLD_CREDIT",
          "BU_MAX_DAY_OVERDUE",
          "BU_SUM_DEBT",
          "BU_SUM_OVERDUE",
          "AMT_MAX_APPROVED",
          "AMT_MAX_REFUSED",
          "AMT_MIN_APPROVED",
          "AMT_MIN_REFUSED",
          "CNT_APPROVED",
          "CNT_CANCELED",
          "CNT_REFUSED",
          "CNT_UNUSED",
          "DAYS_LAST_APPROVED",
          "DAYS_LAST_DUE",
          "DAYS_LAST_REFUSED",
          "DAYS_TERMINATION",
          "AMT_INSTALMENT",
          "AMT_PAYMENT",
          "AMT_TOTAL_RECEIVABLE"
         ],
         "y": [
          151,
          173,
          89,
          143,
          1235,
          2162,
          2034,
          297,
          372,
          278,
          181,
          2085,
          1594,
          1580,
          0,
          110,
          254,
          12,
          45,
          1638,
          2194,
          1994,
          630,
          0,
          730,
          32,
          104,
          1500,
          97,
          1640,
          769,
          1396,
          615,
          509,
          344,
          367,
          53,
          1449,
          728,
          779,
          543,
          1249,
          1559,
          713
         ]
        }
       ],
       "layout": {
        "autosize": true,
        "hovermode": "closest",
        "showlegend": false,
        "title": "Feature Importances",
        "yaxis": {
         "gridwidth": 2,
         "ticklen": 5,
         "title": "Feature Importance"
        }
       }
      },
      "text/html": [
       "<div id=\"e64f980a-67a3-43b7-b436-2111b80ee9b2\" style=\"height: 525px; width: 100%;\" class=\"plotly-graph-div\"></div><script type=\"text/javascript\">require([\"plotly\"], function(Plotly) { window.PLOTLYENV=window.PLOTLYENV || {};window.PLOTLYENV.BASE_URL=\"https://plot.ly\";Plotly.newPlot(\"e64f980a-67a3-43b7-b436-2111b80ee9b2\", [{\"name\": \"LGBM\", \"text\": [\"NAME_CONTRACT_TYPE\", \"FLAG_OWN_CAR\", \"FLAG_OWN_REALTY\", \"CNT_CHILDREN\", \"AMT_INCOME_TOTAL\", \"AMT_CREDIT\", \"AMT_ANNUITY\", \"NAME_INCOME_TYPE\", \"NAME_EDUCATION_TYPE\", \"NAME_FAMILY_STATUS\", \"NAME_HOUSING_TYPE\", \"DAYS_BIRTH\", \"DAYS_EMPLOYED\", \"DAYS_REGISTRATION\", \"FLAG_CONT_MOBILE\", \"CNT_FAM_MEMBERS\", \"REGION_RATING_CLIENT_W_CITY\", \"LIVE_REGION_NOT_WORK_REGION\", \"LIVE_CITY_NOT_WORK_CITY\", \"EXT_SOURCE_1\", \"EXT_SOURCE_2\", \"EXT_SOURCE_3\", \"TARGET\", \"BU_ACTIVE_CREDIT\", \"BU_BADDEBT_CREDIT\", \"BU_CLOSE_CREDIT\", \"BU_SOLD_CREDIT\", \"BU_MAX_DAY_OVERDUE\", \"BU_SUM_DEBT\", \"BU_SUM_OVERDUE\", \"AMT_MAX_APPROVED\", \"AMT_MAX_REFUSED\", \"AMT_MIN_APPROVED\", \"AMT_MIN_REFUSED\", \"CNT_APPROVED\", \"CNT_CANCELED\", \"CNT_REFUSED\", \"CNT_UNUSED\", \"DAYS_LAST_APPROVED\", \"DAYS_LAST_DUE\", \"DAYS_LAST_REFUSED\", \"DAYS_TERMINATION\", \"AMT_INSTALMENT\", \"AMT_PAYMENT\", \"AMT_TOTAL_RECEIVABLE\"], \"type\": \"scatter\", \"mode\": \"markers\", \"y\": [151, 173, 89, 143, 1235, 2162, 2034, 297, 372, 278, 181, 2085, 1594, 1580, 0, 110, 254, 12, 45, 1638, 2194, 1994, 630, 0, 730, 32, 104, 1500, 97, 1640, 769, 1396, 615, 509, 344, 367, 53, 1449, 728, 779, 543, 1249, 1559, 713], \"marker\": {\"color\": [151, 173, 89, 143, 1235, 2162, 2034, 297, 372, 278, 181, 2085, 1594, 1580, 0, 110, 254, 12, 45, 1638, 2194, 1994, 630, 0, 730, 32, 104, 1500, 97, 1640, 769, 1396, 615, 509, 344, 367, 53, 1449, 728, 779, 543, 1249, 1559, 713], \"sizemode\": \"diameter\", \"size\": 25, \"colorscale\": \"Portland\", \"sizeref\": 1, \"showscale\": true}, \"x\": [\"NAME_CONTRACT_TYPE\", \"FLAG_OWN_CAR\", \"FLAG_OWN_REALTY\", \"CNT_CHILDREN\", \"AMT_INCOME_TOTAL\", \"AMT_CREDIT\", \"AMT_ANNUITY\", \"NAME_INCOME_TYPE\", \"NAME_EDUCATION_TYPE\", \"NAME_FAMILY_STATUS\", \"NAME_HOUSING_TYPE\", \"DAYS_BIRTH\", \"DAYS_EMPLOYED\", \"DAYS_REGISTRATION\", \"FLAG_CONT_MOBILE\", \"CNT_FAM_MEMBERS\", \"REGION_RATING_CLIENT_W_CITY\", \"LIVE_REGION_NOT_WORK_REGION\", \"LIVE_CITY_NOT_WORK_CITY\", \"EXT_SOURCE_1\", \"EXT_SOURCE_2\", \"EXT_SOURCE_3\", \"TARGET\", \"BU_ACTIVE_CREDIT\", \"BU_BADDEBT_CREDIT\", \"BU_CLOSE_CREDIT\", \"BU_SOLD_CREDIT\", \"BU_MAX_DAY_OVERDUE\", \"BU_SUM_DEBT\", \"BU_SUM_OVERDUE\", \"AMT_MAX_APPROVED\", \"AMT_MAX_REFUSED\", \"AMT_MIN_APPROVED\", \"AMT_MIN_REFUSED\", \"CNT_APPROVED\", \"CNT_CANCELED\", \"CNT_REFUSED\", \"CNT_UNUSED\", \"DAYS_LAST_APPROVED\", \"DAYS_LAST_DUE\", \"DAYS_LAST_REFUSED\", \"DAYS_TERMINATION\", \"AMT_INSTALMENT\", \"AMT_PAYMENT\", \"AMT_TOTAL_RECEIVABLE\"]}], {\"title\": \"Feature Importances\", \"hovermode\": \"closest\", \"yaxis\": {\"title\": \"Feature Importance\", \"gridwidth\": 2, \"ticklen\": 5}, \"showlegend\": false, \"autosize\": true}, {\"showLink\": true, \"linkText\": \"Export to plot.ly\"})});</script>"
      ],
      "text/vnd.plotly.v1+html": [
       "<div id=\"e64f980a-67a3-43b7-b436-2111b80ee9b2\" style=\"height: 525px; width: 100%;\" class=\"plotly-graph-div\"></div><script type=\"text/javascript\">require([\"plotly\"], function(Plotly) { window.PLOTLYENV=window.PLOTLYENV || {};window.PLOTLYENV.BASE_URL=\"https://plot.ly\";Plotly.newPlot(\"e64f980a-67a3-43b7-b436-2111b80ee9b2\", [{\"name\": \"LGBM\", \"text\": [\"NAME_CONTRACT_TYPE\", \"FLAG_OWN_CAR\", \"FLAG_OWN_REALTY\", \"CNT_CHILDREN\", \"AMT_INCOME_TOTAL\", \"AMT_CREDIT\", \"AMT_ANNUITY\", \"NAME_INCOME_TYPE\", \"NAME_EDUCATION_TYPE\", \"NAME_FAMILY_STATUS\", \"NAME_HOUSING_TYPE\", \"DAYS_BIRTH\", \"DAYS_EMPLOYED\", \"DAYS_REGISTRATION\", \"FLAG_CONT_MOBILE\", \"CNT_FAM_MEMBERS\", \"REGION_RATING_CLIENT_W_CITY\", \"LIVE_REGION_NOT_WORK_REGION\", \"LIVE_CITY_NOT_WORK_CITY\", \"EXT_SOURCE_1\", \"EXT_SOURCE_2\", \"EXT_SOURCE_3\", \"TARGET\", \"BU_ACTIVE_CREDIT\", \"BU_BADDEBT_CREDIT\", \"BU_CLOSE_CREDIT\", \"BU_SOLD_CREDIT\", \"BU_MAX_DAY_OVERDUE\", \"BU_SUM_DEBT\", \"BU_SUM_OVERDUE\", \"AMT_MAX_APPROVED\", \"AMT_MAX_REFUSED\", \"AMT_MIN_APPROVED\", \"AMT_MIN_REFUSED\", \"CNT_APPROVED\", \"CNT_CANCELED\", \"CNT_REFUSED\", \"CNT_UNUSED\", \"DAYS_LAST_APPROVED\", \"DAYS_LAST_DUE\", \"DAYS_LAST_REFUSED\", \"DAYS_TERMINATION\", \"AMT_INSTALMENT\", \"AMT_PAYMENT\", \"AMT_TOTAL_RECEIVABLE\"], \"type\": \"scatter\", \"mode\": \"markers\", \"y\": [151, 173, 89, 143, 1235, 2162, 2034, 297, 372, 278, 181, 2085, 1594, 1580, 0, 110, 254, 12, 45, 1638, 2194, 1994, 630, 0, 730, 32, 104, 1500, 97, 1640, 769, 1396, 615, 509, 344, 367, 53, 1449, 728, 779, 543, 1249, 1559, 713], \"marker\": {\"color\": [151, 173, 89, 143, 1235, 2162, 2034, 297, 372, 278, 181, 2085, 1594, 1580, 0, 110, 254, 12, 45, 1638, 2194, 1994, 630, 0, 730, 32, 104, 1500, 97, 1640, 769, 1396, 615, 509, 344, 367, 53, 1449, 728, 779, 543, 1249, 1559, 713], \"sizemode\": \"diameter\", \"size\": 25, \"colorscale\": \"Portland\", \"sizeref\": 1, \"showscale\": true}, \"x\": [\"NAME_CONTRACT_TYPE\", \"FLAG_OWN_CAR\", \"FLAG_OWN_REALTY\", \"CNT_CHILDREN\", \"AMT_INCOME_TOTAL\", \"AMT_CREDIT\", \"AMT_ANNUITY\", \"NAME_INCOME_TYPE\", \"NAME_EDUCATION_TYPE\", \"NAME_FAMILY_STATUS\", \"NAME_HOUSING_TYPE\", \"DAYS_BIRTH\", \"DAYS_EMPLOYED\", \"DAYS_REGISTRATION\", \"FLAG_CONT_MOBILE\", \"CNT_FAM_MEMBERS\", \"REGION_RATING_CLIENT_W_CITY\", \"LIVE_REGION_NOT_WORK_REGION\", \"LIVE_CITY_NOT_WORK_CITY\", \"EXT_SOURCE_1\", \"EXT_SOURCE_2\", \"EXT_SOURCE_3\", \"TARGET\", \"BU_ACTIVE_CREDIT\", \"BU_BADDEBT_CREDIT\", \"BU_CLOSE_CREDIT\", \"BU_SOLD_CREDIT\", \"BU_MAX_DAY_OVERDUE\", \"BU_SUM_DEBT\", \"BU_SUM_OVERDUE\", \"AMT_MAX_APPROVED\", \"AMT_MAX_REFUSED\", \"AMT_MIN_APPROVED\", \"AMT_MIN_REFUSED\", \"CNT_APPROVED\", \"CNT_CANCELED\", \"CNT_REFUSED\", \"CNT_UNUSED\", \"DAYS_LAST_APPROVED\", \"DAYS_LAST_DUE\", \"DAYS_LAST_REFUSED\", \"DAYS_TERMINATION\", \"AMT_INSTALMENT\", \"AMT_PAYMENT\", \"AMT_TOTAL_RECEIVABLE\"]}], {\"title\": \"Feature Importances\", \"hovermode\": \"closest\", \"yaxis\": {\"title\": \"Feature Importance\", \"gridwidth\": 2, \"ticklen\": 5}, \"showlegend\": false, \"autosize\": true}, {\"showLink\": true, \"linkText\": \"Export to plot.ly\"})});</script>"
      ]
     },
     "metadata": {},
     "output_type": "display_data"
    }
   ],
   "source": [
    "trace = go.Scatter(\n",
    "    y = gbm.feature_importances_,\n",
    "    x = train_set.columns.values,\n",
    "    mode='markers',\n",
    "    marker=dict(\n",
    "        sizemode = 'diameter',\n",
    "        sizeref = 1,\n",
    "        size = 25,\n",
    "        color = gbm.feature_importances_,\n",
    "        colorscale='Portland',\n",
    "        showscale=True\n",
    "    ),\n",
    "    text = train_set.columns.values,\n",
    "    name = 'LGBM'\n",
    ")\n",
    "layout = go.Layout(\n",
    "        autosize=True,\n",
    "        title =  'Feature Importances',\n",
    "        hovermode = 'closest',\n",
    "        yaxis = dict(\n",
    "            title = 'Feature Importance',\n",
    "            ticklen = 5,\n",
    "            gridwidth = 2\n",
    "        ),\n",
    "        showlegend = False\n",
    "    )\n",
    "fig = go.Figure(data = [trace],layout = layout)\n",
    "py.iplot(fig,filename='scatter')"
   ]
  },
  {
   "cell_type": "code",
   "execution_count": 13,
   "metadata": {},
   "outputs": [],
   "source": [
    "y_pred = np.sum(result,axis = 1)/5"
   ]
  },
  {
   "cell_type": "code",
   "execution_count": 14,
   "metadata": {},
   "outputs": [],
   "source": [
    "y_pred[y_pred<0] = 0"
   ]
  },
  {
   "cell_type": "code",
   "execution_count": 19,
   "metadata": {},
   "outputs": [
    {
     "name": "stdout",
     "output_type": "stream",
     "text": [
      "0.5\n"
     ]
    }
   ],
   "source": [
    "score = auc(oof_result,y_train,reorder=True)\n",
    "print(score)\n"
   ]
  },
  {
   "cell_type": "code",
   "execution_count": null,
   "metadata": {},
   "outputs": [],
   "source": [
    "result = pd.DataFrame({\"SK_ID_CURR\":np.array(test_set.index),\n",
    "                       \"TARGET\":y_pred\n",
    "                      })"
   ]
  },
  {
   "cell_type": "code",
   "execution_count": null,
   "metadata": {},
   "outputs": [],
   "source": [
    "result.to_csv('submission.csv',index=False)"
   ]
  },
  {
   "cell_type": "code",
   "execution_count": null,
   "metadata": {},
   "outputs": [],
   "source": [
    "train_test_split?"
   ]
  },
  {
   "cell_type": "code",
   "execution_count": 17,
   "metadata": {},
   "outputs": [],
   "source": [
    "auc?"
   ]
  },
  {
   "cell_type": "code",
   "execution_count": null,
   "metadata": {},
   "outputs": [],
   "source": [
    "y_pred"
   ]
  },
  {
   "cell_type": "code",
   "execution_count": null,
   "metadata": {},
   "outputs": [],
   "source": [
    "(y_pred<0).any()"
   ]
  },
  {
   "cell_type": "code",
   "execution_count": null,
   "metadata": {},
   "outputs": [],
   "source": [
    "cnt = 123\n",
    "print('the number is {}'.format(cnt))"
   ]
  },
  {
   "cell_type": "code",
   "execution_count": 21,
   "metadata": {},
   "outputs": [
    {
     "name": "stdout",
     "output_type": "stream",
     "text": [
      "1677.0\n"
     ]
    }
   ],
   "source": [
    "print(sum(oof_result))"
   ]
  },
  {
   "cell_type": "code",
   "execution_count": 23,
   "metadata": {},
   "outputs": [
    {
     "ename": "AttributeError",
     "evalue": "'DataFrame' object has no attribute 'STATUS'",
     "output_type": "error",
     "traceback": [
      "\u001b[0;31m---------------------------------------------------------------------------\u001b[0m",
      "\u001b[0;31mAttributeError\u001b[0m                            Traceback (most recent call last)",
      "\u001b[0;32m<ipython-input-23-05a4d461d748>\u001b[0m in \u001b[0;36m<module>\u001b[0;34m()\u001b[0m\n\u001b[0;32m----> 1\u001b[0;31m \u001b[0mtrain_set\u001b[0m\u001b[0;34m.\u001b[0m\u001b[0mSTATUS\u001b[0m\u001b[0;34m\u001b[0m\u001b[0m\n\u001b[0m",
      "\u001b[0;32m/anaconda3/envs/tensorflow35/lib/python3.5/site-packages/pandas/core/generic.py\u001b[0m in \u001b[0;36m__getattr__\u001b[0;34m(self, name)\u001b[0m\n\u001b[1;32m   3612\u001b[0m             \u001b[0;32mif\u001b[0m \u001b[0mname\u001b[0m \u001b[0;32min\u001b[0m \u001b[0mself\u001b[0m\u001b[0;34m.\u001b[0m\u001b[0m_info_axis\u001b[0m\u001b[0;34m:\u001b[0m\u001b[0;34m\u001b[0m\u001b[0m\n\u001b[1;32m   3613\u001b[0m                 \u001b[0;32mreturn\u001b[0m \u001b[0mself\u001b[0m\u001b[0;34m[\u001b[0m\u001b[0mname\u001b[0m\u001b[0;34m]\u001b[0m\u001b[0;34m\u001b[0m\u001b[0m\n\u001b[0;32m-> 3614\u001b[0;31m             \u001b[0;32mreturn\u001b[0m \u001b[0mobject\u001b[0m\u001b[0;34m.\u001b[0m\u001b[0m__getattribute__\u001b[0m\u001b[0;34m(\u001b[0m\u001b[0mself\u001b[0m\u001b[0;34m,\u001b[0m \u001b[0mname\u001b[0m\u001b[0;34m)\u001b[0m\u001b[0;34m\u001b[0m\u001b[0m\n\u001b[0m\u001b[1;32m   3615\u001b[0m \u001b[0;34m\u001b[0m\u001b[0m\n\u001b[1;32m   3616\u001b[0m     \u001b[0;32mdef\u001b[0m \u001b[0m__setattr__\u001b[0m\u001b[0;34m(\u001b[0m\u001b[0mself\u001b[0m\u001b[0;34m,\u001b[0m \u001b[0mname\u001b[0m\u001b[0;34m,\u001b[0m \u001b[0mvalue\u001b[0m\u001b[0;34m)\u001b[0m\u001b[0;34m:\u001b[0m\u001b[0;34m\u001b[0m\u001b[0m\n",
      "\u001b[0;31mAttributeError\u001b[0m: 'DataFrame' object has no attribute 'STATUS'"
     ]
    }
   ],
   "source": []
  },
  {
   "cell_type": "code",
   "execution_count": null,
   "metadata": {},
   "outputs": [],
   "source": []
  }
 ],
 "metadata": {
  "kernelspec": {
   "display_name": "Python 3",
   "language": "python",
   "name": "python3"
  },
  "language_info": {
   "codemirror_mode": {
    "name": "ipython",
    "version": 3
   },
   "file_extension": ".py",
   "mimetype": "text/x-python",
   "name": "python",
   "nbconvert_exporter": "python",
   "pygments_lexer": "ipython3",
   "version": "3.5.4"
  }
 },
 "nbformat": 4,
 "nbformat_minor": 2
}
